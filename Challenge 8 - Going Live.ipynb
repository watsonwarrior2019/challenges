{
    "cells": [
        {
            "cell_type": "markdown",
            "metadata": {
                "collapsed": true
            },
            "source": "# Challenge 6 - Going Live\n## Deploying a Machine Learning Model\n\nIt has been found that 88% of AI models do not go into production. One of the largest hurdles to the successful completion of a data science projects is the phase of model deployment. \n\nWatson Studio Local takes the pain out of model deployment by hosting models and then providing end points for the consumption of those models to make inferences in operation. Contestants will be required to deploy their models for production. \n"
        },
        {
            "cell_type": "markdown",
            "metadata": {},
            "source": "## Enter Prediction\n\nEnter in the predicted value that you obtained from the model test."
        },
        {
            "cell_type": "code",
            "execution_count": null,
            "metadata": {},
            "outputs": [],
            "source": "### RUN THIS CELL\n# Enter Prediction\nprediction = 0"
        },
        {
            "cell_type": "markdown",
            "metadata": {},
            "source": "## Complete Challenge"
        },
        {
            "cell_type": "code",
            "execution_count": null,
            "metadata": {},
            "outputs": [],
            "source": "# Verification Steps\n### RUN THIS CELL\nimport pandas as pd, os, urllib.request\n\nimport urllib.request\nurllib.request.urlretrieve('https://raw.githubusercontent.com/watsonwarriors2020/challenges/master/ww.py','ww.py')\nimport ww\nww = ww.WatsonWarriors()\n\nww.answer(0,prediction)\n\n## Enter Verification code\n\n"
        }
    ],
    "metadata": {
        "kernelspec": {
            "display_name": "Python 3.6",
            "language": "python",
            "name": "python3"
        },
        "language_info": {
            "codemirror_mode": {
                "name": "ipython",
                "version": 3
            },
            "file_extension": ".py",
            "mimetype": "text/x-python",
            "name": "python",
            "nbconvert_exporter": "python",
            "pygments_lexer": "ipython3",
            "version": "3.6.8"
        }
    },
    "nbformat": 4,
    "nbformat_minor": 1
}