{
    "cells": [
        {
            "metadata": {
                "collapsed": true
            },
            "cell_type": "markdown",
            "source": "# Challenge 7 - Fight Fire with Data\n## Random Forest Model to Predict Fire Spread\n\nThe user will be using a Jupyter Notebook to run code that was developed in R. First, the user will check to see if the wind speed and brightness are correlated with the speed that the fire spreads derived from the satellite data. The input data has been prepared for you. Next, the user will run the code that creates a model (random forest) using the features they select (windspeed and brightness) as the inputs and estimates the speed of spread as the target variable (speed of spread). They will train a model, record the Root Mean Squared Error, and save the model into a deployable format also known as Predictive Model Markup Language (PMML). \n"
        },
        {
            "metadata": {},
            "cell_type": "markdown",
            "source": "## Install and Load Packages"
        },
        {
            "metadata": {},
            "cell_type": "code",
            "source": "# Install and load packages\nlibrary(projectLib)\nlibrary(httr)\nlibrary(jsonlite)\nhost <- \"https://api.watsonwarriors.ai/workers/validate\";\n\nproject <- projectLib::Project$new(,\"<ProjectId>\", \"<ProjectToken>\")\n\nlibrary(randomForest)\nlibrary(caret)\nlibrary(data.table)\nlibrary(devtools)\n\ninstall_git(\"git://github.com/jpmml/r2pmml.git\")\nlibrary(r2pmml)",
            "execution_count": 1,
            "outputs": [
                {
                    "output_type": "stream",
                    "text": "randomForest 4.6-14\nType rfNews() to see new features/changes/bug fixes.\nLoading required package: lattice\nLoading required package: ggplot2\nRegistered S3 methods overwritten by 'ggplot2':\n  method         from \n  [.quosures     rlang\n  c.quosures     rlang\n  print.quosures rlang\n\nAttaching package: \u2018ggplot2\u2019\n\nThe following object is masked from \u2018package:randomForest\u2019:\n\n    margin\n\n\nAttaching package: \u2018caret\u2019\n\nThe following object is masked from \u2018package:httr\u2019:\n\n    progress\n\nDownloading git repo git://github.com/jpmml/r2pmml.git\n",
                    "name": "stderr"
                },
                {
                    "output_type": "stream",
                    "text": "\u2714  checking for file \u2018/home/dsxuser/.tmp/Rtmp3hKPAg/file5377b4f8b14/DESCRIPTION\u2019 (510ms)\n\u2500  preparing \u2018r2pmml\u2019:\n\u2714  checking DESCRIPTION meta-information ...\n\u2500  checking for LF line-endings in source and make files and shell scripts\n\u2500  checking for empty or unneeded directories\n\u2500  building \u2018r2pmml_0.23.2.tar.gz\u2019\n   \n\r",
                    "name": "stdout"
                }
            ]
        },
        {
            "metadata": {},
            "cell_type": "markdown",
            "source": "## Get and View Data"
        },
        {
            "metadata": {},
            "cell_type": "code",
            "source": "# Get data\n# https://github.com/watsonwarriors2020/challenges/raw/master/Challenge_7_Merged_Data_single_fire.csv\nfireData = fread('https://raw.githubusercontent.com/watsonwarriors2020/challenges/master/Challenge_7_Merged_Data_single_fire.csv'\n                 , data.table=FALSE\n                 , header = TRUE\n                 , stringsAsFactors = FALSE)\n\n# Attach the column names\nattach(fireData)\n\n# Show data structure\nstr(fireData)",
            "execution_count": 5,
            "outputs": [
                {
                    "output_type": "stream",
                    "text": "Warning message in require_bit64():\n\u201cSome columns are type 'integer64' but package bit64 is not installed. Those columns will print as strange looking floating point data. There is no need to reload the data. Simply install.packages('bit64') to obtain the integer64 print method and print the data again.\u201dThe following objects are masked from fireData (pos = 3):\n\n    acq_date, acq_time, bright_t31, brightness, confidence, DateHrGmt,\n    DateHrLwt, datetime_start, daynight, distance, duration,\n    FortyToOneHundredLiquidSoilMoisturePercent, frp, instrument,\n    lat_start, latitude, long_start, longitude,\n    RelativeHumidityPercent, satellite, scan, SiteId, speed_mph,\n    SurfaceDewpointTemperatureFahrenheit, SurfaceTemperatureFahrenheit,\n    SurfaceWetBulbTemperatureFahrenheit, SurfaceWindGustsMph,\n    TenToFortyLiquidSoilMoisturePercent, time_stamp, track, type,\n    version, WindDirectionDegrees, WindSpeedMph,\n    ZeroToTenLiquidSoilMoisturePercent\n\nThe following object is masked from package:base:\n\n    version\n\n",
                    "name": "stderr"
                },
                {
                    "output_type": "stream",
                    "text": "'data.frame':\t13818 obs. of  35 variables:\n $ SiteId                                    : 'integer64' num  1.07e-314 1.07e-314 1.07e-314 1.07e-314 1.07e-314 ...\n $ latitude                                  : num  36.5 36.5 36.5 36.5 36.5 ...\n $ longitude                                 : num  -122 -122 -122 -122 -122 ...\n $ DateHrGmt                                 : chr  \"7/23/2016 3:00\" \"7/23/2016 3:00\" \"7/23/2016 3:00\" \"7/23/2016 3:00\" ...\n $ DateHrLwt                                 : chr  \"7/22/2016 20:00\" \"7/22/2016 20:00\" \"7/22/2016 20:00\" \"7/22/2016 20:00\" ...\n $ WindSpeedMph                              : num  6.4 6.4 6.4 6.4 6.4 6.4 6.4 6.4 6.4 6.4 ...\n $ WindDirectionDegrees                      : int  318 318 318 318 318 318 318 318 318 318 ...\n $ SurfaceWindGustsMph                       : num  36.8 36.8 36.8 36.8 36.8 36.8 36.8 36.8 36.8 36.8 ...\n $ ZeroToTenLiquidSoilMoisturePercent        : num  14 14 14 14 14 14 14 14 14 14 ...\n $ TenToFortyLiquidSoilMoisturePercent       : num  24.4 24.4 24.4 24.4 24.4 24.4 24.4 24.4 24.4 24.4 ...\n $ FortyToOneHundredLiquidSoilMoisturePercent: num  25.4 25.4 25.4 25.4 25.4 25.4 25.4 25.4 25.4 25.4 ...\n $ SurfaceTemperatureFahrenheit              : num  60.4 60.4 60.4 60.4 60.4 60.4 60.4 60.4 60.4 60.4 ...\n $ SurfaceDewpointTemperatureFahrenheit      : num  50.3 50.3 50.3 50.3 50.3 50.3 50.3 50.3 50.3 50.3 ...\n $ SurfaceWetBulbTemperatureFahrenheit       : num  54.6 54.6 54.6 54.6 54.6 54.6 54.6 54.6 54.6 54.6 ...\n $ RelativeHumidityPercent                   : int  70 70 70 70 70 70 70 70 70 70 ...\n $ time_stamp                                : chr  \"7/22/2016 20:21\" \"7/22/2016 20:21\" \"7/22/2016 20:21\" \"7/22/2016 20:21\" ...\n $ brightness                                : num  367 268 367 367 357 ...\n $ scan                                      : num  0.37 0.37 0.37 0.37 0.37 0.37 0.37 0.37 0.37 0.37 ...\n $ track                                     : num  0.58 0.58 0.58 0.58 0.58 0.58 0.58 0.58 0.58 0.58 ...\n $ acq_date                                  : chr  \"7/22/2016\" \"7/22/2016\" \"7/22/2016\" \"7/22/2016\" ...\n $ acq_time                                  : int  2021 2021 2021 2021 2021 2021 2021 2021 2021 2021 ...\n $ satellite                                 : chr  \"N\" \"N\" \"N\" \"N\" ...\n $ instrument                                : chr  \"VIIRS\" \"VIIRS\" \"VIIRS\" \"VIIRS\" ...\n $ confidence                                : chr  \"h\" \"l\" \"h\" \"h\" ...\n $ version                                   : num  1 1 1 1 1 1 1 1 1 1 ...\n $ bright_t31                                : num  309 307 306 342 302 ...\n $ frp                                       : num  77.2 77.2 77.7 77.7 55.2 77.2 42.3 77.7 55.2 6 ...\n $ daynight                                  : chr  \"N\" \"N\" \"N\" \"N\" ...\n $ type                                      : int  3 3 3 3 3 3 3 3 3 3 ...\n $ datetime_start                            : chr  \"7/22/2016 20:21\" \"7/22/2016 20:21\" \"7/22/2016 20:21\" \"7/22/2016 20:21\" ...\n $ lat_start                                 : num  36.5 36.5 36.5 36.5 36.5 ...\n $ long_start                                : num  -122 -122 -122 -122 -122 ...\n $ distance                                  : num  0 0.297 0.232 0.284 0.531 ...\n $ duration                                  : num  0 0 0 0 0 0 0 0 0 0 ...\n $ speed_mph                                 : num  0 0 0 0 0 0 0 0 0 0 ...\n",
                    "name": "stdout"
                }
            ]
        },
        {
            "metadata": {},
            "cell_type": "markdown",
            "source": "## Train a Random Forest Model and Display Accuracy"
        },
        {
            "metadata": {},
            "cell_type": "code",
            "source": "# Train model\nset.seed(556)\nmodFit_rf <- randomForest(speed_mph~brightness + frp + WindSpeedMph + SurfaceTemperatureFahrenheit,\n                          data = fireData,\n                          # nodesize = 1,\n                          ntree = 20,\n                          trControl = trainControl(method = \"cv\", number = 10)\n                          )\n\nprint(modFit_rf)\n\n#RMSE\nrmse <- round(postResample(fireData$speed_mph, predict(modFit_rf, fireData))[1],4)\nanswers <- list('0' = rmse)\n",
            "execution_count": 6,
            "outputs": [
                {
                    "output_type": "stream",
                    "text": "\nCall:\n randomForest(formula = speed_mph ~ brightness + frp + WindSpeedMph +      SurfaceTemperatureFahrenheit, data = fireData, ntree = 20,      trControl = trainControl(method = \"cv\", number = 10)) \n               Type of random forest: regression\n                     Number of trees: 20\nNo. of variables tried at each split: 1\n\n          Mean of squared residuals: 0.1684863\n                    % Var explained: -35.53\n",
                    "name": "stdout"
                }
            ]
        },
        {
            "metadata": {},
            "cell_type": "markdown",
            "source": "## Export Predictive Model Markup Language file"
        },
        {
            "metadata": {},
            "cell_type": "code",
            "source": "# Export the model to PMML\nr2pmml(modFit_rf, \"modFit_rf.pmml\")\n#Export the PMML file to project storage\nproject$save_data('modFit_rf.xml', \"modFit_rf.pmml\", overwrite=TRUE)",
            "execution_count": 7,
            "outputs": [
                {
                    "output_type": "display_data",
                    "data": {
                        "text/html": "<dl>\n\t<dt>$file_name</dt>\n\t\t<dd>'modFit_rf.xml'</dd>\n\t<dt>$bucket_name</dt>\n\t\t<dd>'watsonswarriorstoeornottoe-donotdelete-pr-x8x6lctsymzwu0'</dd>\n\t<dt>$message</dt>\n\t\t<dd>'File saved to project storage.'</dd>\n\t<dt>$asset_id</dt>\n\t\t<dd>'be54bf57-d710-4480-8d67-404a28807433'</dd>\n</dl>\n",
                        "text/markdown": "$file_name\n:   'modFit_rf.xml'\n$bucket_name\n:   'watsonswarriorstoeornottoe-donotdelete-pr-x8x6lctsymzwu0'\n$message\n:   'File saved to project storage.'\n$asset_id\n:   'be54bf57-d710-4480-8d67-404a28807433'\n\n\n",
                        "text/latex": "\\begin{description}\n\\item[\\$file\\_name] 'modFit\\_rf.xml'\n\\item[\\$bucket\\_name] 'watsonswarriorstoeornottoe-donotdelete-pr-x8x6lctsymzwu0'\n\\item[\\$message] 'File saved to project storage.'\n\\item[\\$asset\\_id] 'be54bf57-d710-4480-8d67-404a28807433'\n\\end{description}\n",
                        "text/plain": "$file_name\n[1] \"modFit_rf.xml\"\n\n$bucket_name\n[1] \"watsonswarriorstoeornottoe-donotdelete-pr-x8x6lctsymzwu0\"\n\n$message\n[1] \"File saved to project storage.\"\n\n$asset_id\n[1] \"be54bf57-d710-4480-8d67-404a28807433\"\n"
                    },
                    "metadata": {}
                }
            ]
        },
        {
            "metadata": {},
            "cell_type": "markdown",
            "source": "## Complete Challenge"
        },
        {
            "metadata": {},
            "cell_type": "code",
            "source": "## Paste validation code below\n",
            "execution_count": null,
            "outputs": []
        }
    ],
    "metadata": {
        "kernelspec": {
            "name": "r-3.6",
            "display_name": "R 3.6",
            "language": "R"
        },
        "language_info": {
            "name": "R",
            "codemirror_mode": "r",
            "pygments_lexer": "r",
            "mimetype": "text/x-r-source",
            "file_extension": ".r",
            "version": "3.6.0"
        }
    },
    "nbformat": 4,
    "nbformat_minor": 1
}