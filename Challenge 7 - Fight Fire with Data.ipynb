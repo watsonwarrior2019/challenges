{
    "cells": [
        {
            "metadata": {
                "collapsed": true
            },
            "cell_type": "markdown",
            "source": "# Challenge 7 - Fight Fire with Data\n## Random Forest Model to Predict Fire Spread\n\nThe user will be using a Jupyter Notebook to run code that was developed in R. First, the user will check to see if the wind speed and brightness are correlated with the speed that the fire spreads derived from the satellite data. The input data has been prepared for you. Next, the user will run the code that creates a model (random forest) using the features they select (windspeed and brightness) as the inputs and estimates the speed of spread as the target variable (speed of spread). They will train a model, record the Root Mean Squared Error, and save the model into a deployable format also known as Predictive Model Markup Language (PMML). \n"
        },
        {
            "metadata": {},
            "cell_type": "markdown",
            "source": "## Install and Load Packages"
        },
        {
            "metadata": {},
            "cell_type": "code",
            "source": "# Install and load packages\nlibrary(projectLib)\nlibrary(httr)\nlibrary(jsonlite)\nhost <- \"https://api.watsonwarriors.ai/workers/validate\";\n\n\nproject <- projectLib::Project$new(,\"<ProjectId>\", \"<ProjectToken>\")\n\nlibrary(randomForest)\nlibrary(caret)\nlibrary(data.table)\nlibrary(devtools)\n\ninstall_git(\"git://github.com/jpmml/r2pmml.git\")\nlibrary(r2pmml)",
            "execution_count": null,
            "outputs": []
        },
        {
            "metadata": {},
            "cell_type": "markdown",
            "source": "## Get and View Data"
        },
        {
            "metadata": {},
            "cell_type": "code",
            "source": "# Get data\n# https://github.com/watsonwarriors2020/challenges/raw/master/Challenge_7_Merged_Data_single_fire.csv\nfireData = fread('https://raw.githubusercontent.com/watsonwarriors2020/challenges/master/Challenge_7_Merged_Data_single_fire.csv'\n                 , data.table=FALSE\n                 , header = TRUE\n                 , stringsAsFactors = FALSE)\n\n# Attach the column names\nattach(fireData)\n\n# Show data structure\nstr(fireData)",
            "execution_count": null,
            "outputs": []
        },
        {
            "metadata": {},
            "cell_type": "markdown",
            "source": "## Train a Random Forest Model and Display Accuracy"
        },
        {
            "metadata": {},
            "cell_type": "code",
            "source": "# Train model\nset.seed(556)\nmodFit_rf <- randomForest(speed_mph~brightness + frp + WindSpeedMph + SurfaceTemperatureFahrenheit,\n                          data = fireData,\n                          # nodesize = 1,\n                          ntree = 20,\n                          trControl = trainControl(method = \"cv\", number = 10)\n                          )\n\nprint(modFit_rf)\n\n#RMSE\nrmse <- round(postResample(fireData$speed_mph, predict(modFit_rf, fireData))[1],4)\nanswers <- list('0' = rmse)",
            "execution_count": null,
            "outputs": []
        },
        {
            "metadata": {},
            "cell_type": "code",
            "source": "answers",
            "execution_count": null,
            "outputs": []
        },
        {
            "metadata": {},
            "cell_type": "markdown",
            "source": "## Export Predictive Model Markup Language file"
        },
        {
            "metadata": {},
            "cell_type": "code",
            "source": "# Export the model to PMML\nr2pmml(modFit_rf, \"modFit_rf.pmml\")\n#Export the PMML file to project storage\nproject$save_data('modFit_rf.xml', \"modFit_rf.pmml\", overwrite=TRUE)",
            "execution_count": null,
            "outputs": []
        },
        {
            "metadata": {},
            "cell_type": "markdown",
            "source": "## Complete Challenge"
        },
        {
            "metadata": {},
            "cell_type": "code",
            "source": "## Paste validation code below\nPOST(host,  body = list('data' = answers), encode = \"json\", add_headers('ww-session' = '09616428-f5fe-49df-bdf3-3a392728201a.5e334940153cad50b45ae113'))",
            "execution_count": null,
            "outputs": []
        },
        {
            "metadata": {},
            "cell_type": "code",
            "source": "",
            "execution_count": null,
            "outputs": []
        }
    ],
    "metadata": {
        "kernelspec": {
            "name": "r-3.6",
            "display_name": "R 3.6",
            "language": "R"
        },
        "language_info": {
            "name": "R",
            "codemirror_mode": "r",
            "pygments_lexer": "r",
            "mimetype": "text/x-r-source",
            "file_extension": ".r",
            "version": "3.6.0"
        }
    },
    "nbformat": 4,
    "nbformat_minor": 1
}