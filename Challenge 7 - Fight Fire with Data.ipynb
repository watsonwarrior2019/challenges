{
    "cells": [
        {
            "cell_type": "markdown",
            "metadata": {
                "collapsed": true
            },
            "source": "# Challenge 7 - Fight Fire with Data\n## Random Forest Model to Predict Fire Spread\n\nCopy Needed\n"
        },
        {
            "cell_type": "markdown",
            "metadata": {},
            "source": "## Install and Load Packages"
        },
        {
            "cell_type": "code",
            "execution_count": null,
            "metadata": {},
            "outputs": [],
            "source": "library(projectLib)\nproject <- projectLib::Project$new(,\"<ProjectId>\", \"<ProjectToken>\")\n\nlibrary(randomForest)\nlibrary(caret)\nlibrary(data.table)\nlibrary(devtools)\n\ninstall_git(\"git://github.com/jpmml/r2pmml.git\")\nlibrary(r2pmml)"
        },
        {
            "cell_type": "markdown",
            "metadata": {},
            "source": "## Get and View Data"
        },
        {
            "cell_type": "code",
            "execution_count": null,
            "metadata": {},
            "outputs": [],
            "source": "# Get data\nfireData = fread('https://raw.githubusercontent.com/watsonwarriors2020/challenges/master/Challenge_7_Merged_Data.csv'\n                 , data.table=FALSE\n                 , header = TRUE\n                 , stringsAsFactors = FALSE)\n\n# Attach the column names\nattach(fireData)\n\n# Show data structure\nstr(fireData)"
        },
        {
            "cell_type": "markdown",
            "metadata": {},
            "source": "## Train a Random Forest Model and Display Accuracy"
        },
        {
            "cell_type": "code",
            "execution_count": null,
            "metadata": {},
            "outputs": [],
            "source": "# Train model\nset.seed(556)\nmodFit_rf <- randomForest(speed_mph~brightness + frp + WindSpeedMph + SurfaceTemperatureFahrenheit,\n                          data = fireData,\n                          # nodesize = 1,\n                          ntree = 20,\n                          trControl = trainControl(method = \"cv\", number = 10)\n                          )\n\nprint(modFit_rf)\n\n#RMSE\nround(postResample(fireData$speed_mph, predict(modFit_rf, fireData)),4)"
        },
        {
            "cell_type": "markdown",
            "metadata": {},
            "source": "## Export Predictive Model Markup Language file"
        },
        {
            "cell_type": "code",
            "execution_count": null,
            "metadata": {},
            "outputs": [],
            "source": "# Export the model to PMML\nr2pmml(modFit_rf, \"modFit_rf.pmml\")\n#Export the PMML file to project storage\nproject$save_data('modFit_rf.xml', \"modFit_rf.pmml\", overwrite=TRUE)"
        }
    ],
    "metadata": {
        "kernelspec": {
            "display_name": "R 3.6",
            "language": "R",
            "name": "r-3.6"
        },
        "language_info": {
            "codemirror_mode": "r",
            "file_extension": ".r",
            "mimetype": "text/x-r-source",
            "name": "R",
            "pygments_lexer": "r",
            "version": "3.6.0"
        }
    },
    "nbformat": 4,
    "nbformat_minor": 1
}