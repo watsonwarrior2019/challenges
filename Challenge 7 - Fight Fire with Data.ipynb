{
    "cells": [
        {
            "cell_type": "markdown",
            "metadata": {
                "collapsed": true
            },
            "source": "# Challenge 7 - Fight Fire with Data\n## Random Forest Model to Predict Fire Spread\n\nThe user will be using a Jupyter Notebook to run code that was developed in R. First, the user will check to see if the wind speed and brightness are correlated with the speed that the fire spreads derived from the satellite data. The input data has been prepared for you. Next, the user will run the code that creates a model (random forest) using the features they select (windspeed and brightness) as the inputs and estimates the speed of spread as the target variable (speed of spread). They will train a model, record the Root Mean Squared Error, and save the model into a deployable format also known as Predictive Model Markup Language (PMML). \n"
        },
        {
            "cell_type": "markdown",
            "metadata": {},
            "source": "## Install and Load Packages"
        },
        {
            "cell_type": "code",
            "execution_count": null,
            "metadata": {},
            "outputs": [],
            "source": "# Install and load packages\nlibrary(projectLib)\nproject <- projectLib::Project$new(,\"<ProjectId>\", \"<ProjectToken>\")\n\nlibrary(randomForest)\nlibrary(caret)\nlibrary(data.table)\nlibrary(devtools)\n\ninstall_git(\"git://github.com/jpmml/r2pmml.git\")\nlibrary(r2pmml)"
        },
        {
            "cell_type": "markdown",
            "metadata": {},
            "source": "## Get and View Data"
        },
        {
            "cell_type": "code",
            "execution_count": null,
            "metadata": {},
            "outputs": [],
            "source": "# Get data\nfireData = fread('https://raw.githubusercontent.com/watsonwarriors2020/challenges/master/Challenge_7_Merged_Data.csv'\n                 , data.table=FALSE\n                 , header = TRUE\n                 , stringsAsFactors = FALSE)\n\n# Attach the column names\nattach(fireData)\n\n# Show data structure\nstr(fireData)"
        },
        {
            "cell_type": "markdown",
            "metadata": {},
            "source": "## Train a Random Forest Model and Display Accuracy"
        },
        {
            "cell_type": "code",
            "execution_count": 11,
            "metadata": {},
            "outputs": [
                {
                    "name": "stdout",
                    "output_type": "stream",
                    "text": "\nCall:\n randomForest(formula = speed_mph ~ brightness + frp + WindSpeedMph +      SurfaceTemperatureFahrenheit, data = fireData, ntree = 20,      trControl = trainControl(method = \"cv\", number = 10)) \n               Type of random forest: regression\n                     Number of trees: 20\nNo. of variables tried at each split: 1\n\n          Mean of squared residuals: 0.09213779\n                    % Var explained: 23.9\n"
                },
                {
                    "data": {
                        "text/html": "<dl class=dl-horizontal>\n\t<dt>RMSE</dt>\n\t\t<dd>0.1843</dd>\n\t<dt>Rsquared</dt>\n\t\t<dd>0.8475</dd>\n\t<dt>MAE</dt>\n\t\t<dd>0.0179</dd>\n</dl>\n",
                        "text/latex": "\\begin{description*}\n\\item[RMSE] 0.1843\n\\item[Rsquared] 0.8475\n\\item[MAE] 0.0179\n\\end{description*}\n",
                        "text/markdown": "RMSE\n:   0.1843Rsquared\n:   0.8475MAE\n:   0.0179\n\n",
                        "text/plain": "    RMSE Rsquared      MAE \n  0.1843   0.8475   0.0179 "
                    },
                    "metadata": {},
                    "output_type": "display_data"
                }
            ],
            "source": "# Train model\nset.seed(556)\nmodFit_rf <- randomForest(speed_mph~brightness + frp + WindSpeedMph + SurfaceTemperatureFahrenheit,\n                          data = fireData,\n                          # nodesize = 1,\n                          ntree = 20,\n                          trControl = trainControl(method = \"cv\", number = 10)\n                          )\n\nprint(modFit_rf)\n\n#RMSE\nround(postResample(fireData$speed_mph, predict(modFit_rf, fireData)),4)"
        },
        {
            "cell_type": "markdown",
            "metadata": {},
            "source": "## Export Predictive Model Markup Language file"
        },
        {
            "cell_type": "code",
            "execution_count": null,
            "metadata": {},
            "outputs": [],
            "source": "# Export the model to PMML\nr2pmml(modFit_rf, \"modFit_rf.pmml\")\n#Export the PMML file to project storage\nproject$save_data('modFit_rf.xml', \"modFit_rf.pmml\", overwrite=TRUE)"
        },
        {
            "cell_type": "markdown",
            "metadata": {},
            "source": "## Complete Challenge"
        },
        {
            "cell_type": "code",
            "execution_count": null,
            "metadata": {},
            "outputs": [],
            "source": "# Verification steps here\n"
        }
    ],
    "metadata": {
        "kernelspec": {
            "display_name": "R 3.6",
            "language": "R",
            "name": "r-3.6"
        },
        "language_info": {
            "codemirror_mode": "r",
            "file_extension": ".r",
            "mimetype": "text/x-r-source",
            "name": "R",
            "pygments_lexer": "r",
            "version": "3.6.0"
        }
    },
    "nbformat": 4,
    "nbformat_minor": 1
}