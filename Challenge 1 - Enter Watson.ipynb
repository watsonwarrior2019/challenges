{
    "cells": [
        {
            "metadata": {
                "collapsed": true
            },
            "cell_type": "markdown",
            "source": "# Challenge 1\n## Enter Watson\n\nIt\u2019s best to start at the beginning. The first challenge introduces our Warrior\u2019s to Watson through a series of mundane but necessary steps for getting setup. First, create or join a project. Next, add the Game Moderator as a collaborator, and connect to the Game\u2019s Github repo. Finally, load the first of the Game\u2019s data assets, a file containing data on all of the wild fires in the U.S. between 1992 and 2015. \n\nThis challenge will test a Warrior\u2019s abilities using the Watson Studio Local interface and demonstrate the ease of use for getting a project started on the right foot. It will also prepare the Warrior for the next challenge of cleaning, augmenting, transforming, and integrating (CATI) the data.\n\nA very practical first challenge, completion of this stage will entail adding a Game Moderator as a collaborator and therefor provide us with access to track the progress of the contestant.\n\n## Connect to Data\n\nClick into the code block below under \"### RUN THIS CELL\"\n\nIn the top right corner of this page, click the icon with three squares and a one which has the tooltip \"Find and Add Data\". Find the CSV file named \"Challenge_1_Satellite_Data.csv\" and select Insert a StreamingBody object. This will insert a code block that makes a connection to your data.\n\n*Note: the name of the object used below (\"streaming_body_1\") could differ from the name of the object you loaded above. Modify the name of the data frame as needed.*"
        },
        {
            "metadata": {},
            "cell_type": "code",
            "source": "### INSERT CODE using the \"Find and Add Data\" tool\n### RUN THIS CELL\n\n",
            "execution_count": null,
            "outputs": []
        },
        {
            "metadata": {},
            "cell_type": "code",
            "source": "### RUN THIS CELL\n### Assign the streaming body for the data file to a pandas dataframe\n### View the dataframe\ndf_data = pd.read_csv(streaming_body_1)\ndf_data.head() ",
            "execution_count": null,
            "outputs": []
        },
        {
            "metadata": {},
            "cell_type": "code",
            "source": "### RUN THIS CELL\nimport pandas as pd, os, urllib.request\n\nimport urllib.request\nurllib.request.urlretrieve('https://raw.githubusercontent.com/watsonwarriors2020/challenges/master/ww.py','ww.py')\nimport ww\nww = ww.WatsonWarriors()\n",
            "execution_count": null,
            "outputs": []
        },
        {
            "metadata": {},
            "cell_type": "markdown",
            "source": "## Submit Answer\n\nRun the cell below to complete the challenge."
        },
        {
            "metadata": {},
            "cell_type": "code",
            "source": "### RUN THIS CELL\ntry:\n    rows = df_data.shape[0]\n    columns = df_data.shape[1]\n\nexcept:\n    rows = 0\n    columns = 0\n \nww.answer(0,rows)\n    \n### --- Paste code below\n",
            "execution_count": null,
            "outputs": []
        }
    ],
    "metadata": {
        "kernelspec": {
            "name": "python3",
            "display_name": "Python 3.6",
            "language": "python"
        },
        "language_info": {
            "name": "python",
            "version": "3.6.9",
            "mimetype": "text/x-python",
            "codemirror_mode": {
                "name": "ipython",
                "version": 3
            },
            "pygments_lexer": "ipython3",
            "nbconvert_exporter": "python",
            "file_extension": ".py"
        }
    },
    "nbformat": 4,
    "nbformat_minor": 1
}