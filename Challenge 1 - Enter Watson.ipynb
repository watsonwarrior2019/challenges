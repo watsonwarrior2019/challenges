{
    "cells": [
        {
            "attachments": {},
            "cell_type": "markdown",
            "metadata": {
                "collapsed": true
            },
            "source": "# Challenge 1\n## Enter Watson\n\nIt\u2019s best to start at the beginning. The first challenge introduces our Warrior\u2019s to Watson through a series of mundane but necessary steps for getting setup. First, create or join a project. Next, add the Game Moderator as a collaborator, and connect to the Game\u2019s Github repo. Finally, load the first of the Game\u2019s data assets, a file containing data on all of the wild fires in the U.S. between 1992 and 2015. \n\nThis challenge will test a Warrior\u2019s abilities using the Watson Studio Local interface and demonstrate the ease of use for getting a project started on the right foot. It will also prepare the Warrior for the next challenge of cleaning, augmenting, transforming, and integrating (CATI) the data.\n\nA very practical first challenge, completion of this stage will entail adding a Game Moderator as a collaborator and therefor provide us with access to track the progress of the contestant.\n\n## Connect to Data\n\nIn the cell below add a connection to the CSV file that you imported from Cloud Object Storage."
        },
        {
            "cell_type": "code",
            "execution_count": 2,
            "metadata": {},
            "outputs": [
                {
                    "data": {
                        "text/html": "<div>\n<style scoped>\n    .dataframe tbody tr th:only-of-type {\n        vertical-align: middle;\n    }\n\n    .dataframe tbody tr th {\n        vertical-align: top;\n    }\n\n    .dataframe thead th {\n        text-align: right;\n    }\n</style>\n<table border=\"1\" class=\"dataframe\">\n  <thead>\n    <tr style=\"text-align: right;\">\n      <th></th>\n      <th>time_stamp</th>\n      <th>brightness</th>\n      <th>scan</th>\n      <th>track</th>\n      <th>acq_date</th>\n      <th>acq_time</th>\n      <th>satellite</th>\n      <th>instrument</th>\n      <th>confidence</th>\n      <th>version</th>\n      <th>bright_t31</th>\n      <th>frp</th>\n      <th>daynight</th>\n      <th>type</th>\n      <th>latlong</th>\n    </tr>\n  </thead>\n  <tbody>\n    <tr>\n      <th>0</th>\n      <td>7/22/2016 21:24</td>\n      <td>338.3</td>\n      <td>1.0</td>\n      <td>1.0</td>\n      <td>7/22/2016</td>\n      <td>2124</td>\n      <td>Aqua</td>\n      <td>MODIS</td>\n      <td>81</td>\n      <td>6.2</td>\n      <td>309.9</td>\n      <td>29.7</td>\n      <td>D</td>\n      <td>0</td>\n      <td>36.4591:-121.9065</td>\n    </tr>\n    <tr>\n      <th>1</th>\n      <td>7/22/2016 21:24</td>\n      <td>372.5</td>\n      <td>1.0</td>\n      <td>1.0</td>\n      <td>7/22/2016</td>\n      <td>2124</td>\n      <td>Aqua</td>\n      <td>MODIS</td>\n      <td>100</td>\n      <td>6.2</td>\n      <td>316.0</td>\n      <td>120.2</td>\n      <td>D</td>\n      <td>0</td>\n      <td>36.4606:-121.8953</td>\n    </tr>\n    <tr>\n      <th>2</th>\n      <td>7/23/2016 6:50</td>\n      <td>333.8</td>\n      <td>2.7</td>\n      <td>1.6</td>\n      <td>7/23/2016</td>\n      <td>650</td>\n      <td>Terra</td>\n      <td>MODIS</td>\n      <td>100</td>\n      <td>6.2</td>\n      <td>295.4</td>\n      <td>142.4</td>\n      <td>N</td>\n      <td>0</td>\n      <td>36.455:-121.8891</td>\n    </tr>\n    <tr>\n      <th>3</th>\n      <td>7/23/2016 6:50</td>\n      <td>325.5</td>\n      <td>2.7</td>\n      <td>1.6</td>\n      <td>7/23/2016</td>\n      <td>650</td>\n      <td>Terra</td>\n      <td>MODIS</td>\n      <td>100</td>\n      <td>6.2</td>\n      <td>290.2</td>\n      <td>97.9</td>\n      <td>N</td>\n      <td>0</td>\n      <td>36.4532:-121.9146</td>\n    </tr>\n    <tr>\n      <th>4</th>\n      <td>7/23/2016 6:50</td>\n      <td>332.5</td>\n      <td>2.7</td>\n      <td>1.6</td>\n      <td>7/23/2016</td>\n      <td>650</td>\n      <td>Terra</td>\n      <td>MODIS</td>\n      <td>100</td>\n      <td>6.2</td>\n      <td>293.3</td>\n      <td>135.7</td>\n      <td>N</td>\n      <td>0</td>\n      <td>36.4692:-121.8902</td>\n    </tr>\n  </tbody>\n</table>\n</div>",
                        "text/plain": "        time_stamp  brightness  scan  track   acq_date  acq_time satellite  \\\n0  7/22/2016 21:24       338.3   1.0    1.0  7/22/2016      2124      Aqua   \n1  7/22/2016 21:24       372.5   1.0    1.0  7/22/2016      2124      Aqua   \n2   7/23/2016 6:50       333.8   2.7    1.6  7/23/2016       650     Terra   \n3   7/23/2016 6:50       325.5   2.7    1.6  7/23/2016       650     Terra   \n4   7/23/2016 6:50       332.5   2.7    1.6  7/23/2016       650     Terra   \n\n  instrument confidence  version  bright_t31    frp daynight  type  \\\n0      MODIS         81      6.2       309.9   29.7        D     0   \n1      MODIS        100      6.2       316.0  120.2        D     0   \n2      MODIS        100      6.2       295.4  142.4        N     0   \n3      MODIS        100      6.2       290.2   97.9        N     0   \n4      MODIS        100      6.2       293.3  135.7        N     0   \n\n             latlong  \n0  36.4591:-121.9065  \n1  36.4606:-121.8953  \n2   36.455:-121.8891  \n3  36.4532:-121.9146  \n4  36.4692:-121.8902  "
                    },
                    "execution_count": 2,
                    "metadata": {},
                    "output_type": "execute_result"
                }
            ],
            "source": "# The code was removed by Watson Studio for sharing."
        },
        {
            "cell_type": "markdown",
            "metadata": {},
            "source": "## Submit Answer\n\nRun the cell below to submit your answer."
        },
        {
            "cell_type": "code",
            "execution_count": null,
            "metadata": {},
            "outputs": [],
            "source": "# Check to see if the file has the correct number of rows\ntry:\n    rows = df_data_4.shape[0]\n    columns = df_data_4.shape[1]\n    print(rows)\nexcept:\n    rows = 0\n    columns = 0\n    print(rows)\n    \n## this is where the challenge verificatoin code goes\n"
        }
    ],
    "metadata": {
        "kernelspec": {
            "display_name": "Python 3.6",
            "language": "python",
            "name": "python3"
        },
        "language_info": {
            "codemirror_mode": {
                "name": "ipython",
                "version": 3
            },
            "file_extension": ".py",
            "mimetype": "text/x-python",
            "name": "python",
            "nbconvert_exporter": "python",
            "pygments_lexer": "ipython3",
            "version": "3.6.8"
        }
    },
    "nbformat": 4,
    "nbformat_minor": 1
}