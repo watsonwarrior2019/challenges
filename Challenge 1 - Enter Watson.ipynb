{
    "cells": [
        {
            "cell_type": "markdown",
            "metadata": {
                "collapsed": true
            },
            "source": "# Challenge 1\n## Enter Watson\n\nIt\u2019s best to start at the beginning. The first challenge introduces our Warrior\u2019s to Watson through a series of mundane but necessary steps for getting setup. First, create or join a project. Next, add the Game Moderator as a collaborator, and connect to the Game\u2019s Github repo. Finally, load the first of the Game\u2019s data assets, a file containing data on all of the wild fires in the U.S. between 1992 and 2015. \n\nThis challenge will test a Warrior\u2019s abilities using the Watson Studio Local interface and demonstrate the ease of use for getting a project started on the right foot. It will also prepare the Warrior for the next challenge of cleaning, augmenting, transforming, and integrating (CATI) the data.\n\nA very practical first challenge, completion of this stage will entail adding a Game Moderator as a collaborator and therefor provide us with access to track the progress of the contestant.\n\n## Connect to Data\n\nIn the top right corner of this page, click the icon with three squares and a one which has the tooltip \"Find and Add Data\". Find the CSV file named \"Challenge_1_Satellite_Data.csv\" and select Insert a StreamingBody object. This will insert a code block that makes a connection to your data.\n\n*Note: the name of the object used below (\"streaming_body_1\") could differ from the name of the object you loaded above. Modify the name of the data frame as needed.*"
        },
        {
            "cell_type": "code",
            "execution_count": 1,
            "metadata": {},
            "outputs": [],
            "source": "### INSERT CODE using the \"Find and Add Data\" tool\n### RUN THIS CELL\n\n"
        },
        {
            "cell_type": "code",
            "execution_count": null,
            "metadata": {},
            "outputs": [],
            "source": "### RUN THIS CELL\n### Assign the streaming body for the data file to a pandas dataframe\n### View the dataframe\ndf_data = pd.read_csv(streaming_body_1)\ndf_data.head() "
        },
        {
            "cell_type": "code",
            "execution_count": null,
            "metadata": {},
            "outputs": [],
            "source": "### RUN THIS CELL\nimport pandas as pd, os, urllib.request\n\nimport urllib.request\nurllib.request.urlretrieve('https://raw.githubusercontent.com/watsonwarriors2020/challenges/master/ww.py','ww.py')\nimport ww\nww = ww.WatsonWarriors()\n"
        },
        {
            "cell_type": "markdown",
            "metadata": {},
            "source": "## Submit Answer\n\nRun the cell below to complete the challenge."
        },
        {
            "cell_type": "code",
            "execution_count": null,
            "metadata": {},
            "outputs": [],
            "source": "### RUN THIS CELL\ntry:\n    rows = df_data.shape[0]\n    columns = df_data.shape[1]\n\nexcept:\n    rows = 0\n    columns = 0\n \nww.answer(0,rows)\n    \n### --- Paste code below\n"
        }
    ],
    "metadata": {
        "kernelspec": {
            "display_name": "Python 3.6",
            "language": "python",
            "name": "python3"
        },
        "language_info": {
            "codemirror_mode": {
                "name": "ipython",
                "version": 3
            },
            "file_extension": ".py",
            "mimetype": "text/x-python",
            "name": "python",
            "nbconvert_exporter": "python",
            "pygments_lexer": "ipython3",
            "version": "3.6.8"
        }
    },
    "nbformat": 4,
    "nbformat_minor": 1
}