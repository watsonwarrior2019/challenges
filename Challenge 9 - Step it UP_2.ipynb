{
    "cells": [
        {
            "cell_type": "markdown",
            "metadata": {
                "collapsed": true
            },
            "source": "# Challenge 9 - Step it UP!\n\n## Random Forest Model to Predict Fire Spread\n\nThe player will be using this Jupyter Notebook to rerun some of the code that was developed in R from the \u201cFight Fire with Data\u201d Challenge. The input data has been prepared for you. The player will import the dataset, prepare the data, and divide the dataset into a training and test set. Next, the player will run the code that creates a model (random forest) using features they select (such as brightness, windspeed and frp) as the inputs and will estimate the speed of spread as the target variable. Finally, the player will train a model, record the Root Mean Squared Error and adjust the parameters of the model to see if they can make the model better. Can you? \n"
        },
        {
            "cell_type": "markdown",
            "metadata": {},
            "source": "## Install and Load Packages"
        },
        {
            "cell_type": "code",
            "execution_count": null,
            "metadata": {},
            "outputs": [],
            "source": "# Install and load packages\ninstall.packages('bit64')\ninstall.packages('ISLR')"
        },
        {
            "cell_type": "code",
            "execution_count": null,
            "metadata": {},
            "outputs": [],
            "source": "#Load libraries \nlibrary(projectLib)\nlibrary(ISLR)\nlibrary(bit64)\nlibrary(httr)\nlibrary(jsonlite)\nhost <- \"https://api.watsonwarriors.ai/workers/validate\";\n\n\nproject <- projectLib::Project$new(,\"<ProjectId>\", \"<ProjectToken>\")\n\nlibrary(randomForest)\nlibrary(caret)\nlibrary(data.table)\nlibrary(devtools)\n\ninstall_git(\"git://github.com/jpmml/r2pmml.git\")\nlibrary(r2pmml)"
        },
        {
            "cell_type": "markdown",
            "metadata": {},
            "source": "## Get and View Data"
        },
        {
            "cell_type": "code",
            "execution_count": null,
            "metadata": {},
            "outputs": [],
            "source": "# Get data\n# https://github.com/watsonwarriors2020/challenges/raw/master/Challenge_7_Merged_Data_single_fire.csv\nfireData = fread('https://raw.githubusercontent.com/watsonwarriors2020/challenges/master/Challenge_7_Merged_Data_single_fire.csv'\n                 , data.table=FALSE\n                 , header = TRUE\n                 , stringsAsFactors = FALSE)\n\n\n# Generate the training and test datasets\nsmp_siz = floor(0.75*nrow(fireData))  # creates a value for dividing the data into train and test. In this case the value is defined as 75% of the number of rows in the dataset\nset.seed(556)   # set seed to ensure you always have same random numbers generated\ntrain_ind = sample(seq_len(nrow(fireData)),size = smp_siz)  # Randomly identifies the rows equal to sample size ( defined in previous instruction) from  all the rows of dataset and stores the row number in train_ind\ntrain =fireData[train_ind,] #creates the training dataset with row numbers stored in train_ind\ntest=fireData[-train_ind,]  # creates the test dataset excluding the row numbers mentioned in train_ind\n"
        },
        {
            "cell_type": "code",
            "execution_count": null,
            "metadata": {},
            "outputs": [],
            "source": "# Attach the column names\nattach(train)\nattach(test)\n# Show data structure\nstr(train)"
        },
        {
            "cell_type": "markdown",
            "metadata": {},
            "source": "## Train a Random Forest Model and Display Accuracy"
        },
        {
            "cell_type": "code",
            "execution_count": null,
            "metadata": {},
            "outputs": [],
            "source": "# Train model\nset.seed(556)\nmodFit_rf <- randomForest(speed_mph~brightness + frp + WindSpeedMph, \n                          data = train,\n                          nodesize = 5000,\n                          ntree = 20,\n                          trControl = trainControl(method = \"cv\", number = 10)\n                          )\n\n\n\n\n#RMSE\nrmse <- round(postResample(test$speed_mph, predict(modFit_rf, test))[1],4)\nanswer_baseline <- as.numeric(rmse)\n\ncat(\"\\n The base RMSE is: \" , answer_baseline)\n\n\ncat(\"\\n\\n Here is the summary of the last model you tested. \\n\")\n\nprint(modFit_rf)"
        },
        {
            "cell_type": "markdown",
            "metadata": {},
            "source": "## Make changes to the base model to improve the Root Mean Square Error (RMSE) for your model.\n\n### Adjust the Random Forest parameters to make the model have a lower RMSE value.\n\n#### You can adjust:\n\n    ntree = the number of trees in the model\n\n    nodesize = the minimum size of a leaf (node). A large value will make a shallower tree. A small value will make a larger tree. \n\n    features included in the model by removeing the # in front of the feature you want to include.\n\n#### Remember, not every adjustment is an improvement!! You can test and check your improvements as many times as you like before submitting your answer. "
        },
        {
            "cell_type": "code",
            "execution_count": null,
            "metadata": {},
            "outputs": [],
            "source": "# Train model\nset.seed(556)\nmodFit_rf <- randomForest(speed_mph~ \n      brightness   #  <-- remove or add features by adding a # before the name of the feature\n#      + bright_t31 \n     +   frp        #\n#      + RelativeHumidityPercent  \n#      + SurfaceWetBulbTemperatureFahrenheit\n     + WindSpeedMph #                             \n#      + SurfaceWindGustsMph                       \n#      + ZeroToTenLiquidSoilMoisturePercent        \n#      + TenToFortyLiquidSoilMoisturePercent       \n#      + FortyToOneHundredLiquidSoilMoisturePercent\n#      + SurfaceTemperatureFahrenheit         \n#      + SurfaceDewpointTemperatureFahrenheit   <-- remove or add features by adding a # before the name of the feature\n                         , data = train,\n                           nodesize = 5000,  # <-- change the min size of the terminal node\n                          ntree = 20,    # <-- change the number of trees in the forrest\n                          trControl = trainControl(method = \"cv\", number = 10)\n                          )"
        },
        {
            "cell_type": "code",
            "execution_count": null,
            "metadata": {},
            "outputs": [],
            "source": "#RMSE\nrmse <- round(postResample(test$speed_mph, predict(modFit_rf, test))[1],4)\nyour_rmse <- as.numeric(rmse)\n\ncat(\"\\n Your RMSE is now: \",your_rmse, \"\\n The base RMSE was: \" , answer_baseline)\n\ncat(\"\\n\\n Here is the summary of the last model you tested. \\n\")\n\nanswers <- list('0' = your_rmse)\nprint(modFit_rf)\n"
        },
        {
            "cell_type": "markdown",
            "metadata": {},
            "source": "#### Base Model Score: 0.2133 and default values.\n\nCall:\n randomForest(formula = speed_mph ~ brightness + frp + WindSpeedMph,      data = train, nodesize = 5000, ntree = 20, trControl = trainControl(method = \"cv\",          number = 10)) \n               Type of random forest: regression\n                     Number of trees: 20\nNo. of variables tried at each split: 1\n\n          Mean of squared residuals: 0.1501773\n                    % Var explained: 0.16\n\n"
        },
        {
            "cell_type": "markdown",
            "metadata": {},
            "source": "## Complete Challenge"
        },
        {
            "cell_type": "code",
            "execution_count": null,
            "metadata": {},
            "outputs": [],
            "source": "## Paste validation code below\n"
        }
    ],
    "metadata": {
        "kernelspec": {
            "display_name": "R 3.6",
            "language": "R",
            "name": "r-3.6"
        },
        "language_info": {
            "codemirror_mode": "r",
            "file_extension": ".r",
            "mimetype": "text/x-r-source",
            "name": "R",
            "pygments_lexer": "r",
            "version": "3.6.0"
        }
    },
    "nbformat": 4,
    "nbformat_minor": 1
}