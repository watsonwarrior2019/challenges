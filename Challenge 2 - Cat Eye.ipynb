{
    "cells": [
        {
            "cell_type": "markdown",
            "metadata": {
                "collapsed": true
            },
            "source": "# Challenge 2\n## Cat Eye\n\nLife does not give us clean data. It is often said that around 80% of a Data Scientists time is spent not on training and testing machine learning algorithms, but rather on preparing the data for those algorithms. We call this step in the Data Science process CATI, which stands for clean, augment, transform, and integrate.\n\nThis challenge will focus on the Data Refinery asset within Watson Studio Local. This is a tool that simplifies the process of data cleaning, augmentation, transformation, and integration within an easy to use GUI. The steps created for the refinement process can then be saved and scheduled to run on a regular basis to automate CATI.  \n\nContestants will need to perform a set of data preparation tasks and schedule a job in the Data Refinery tool. \n\n## Connect to Data\n\nUsing the code cell below, add a connection to the new shaped dataset that you created using the Data Refinery Tool. In the top right corner of this page, click the icon with three squares and a one which has the tooltip \"Find and Add Data\". Find the CSV file named \"Challenge_1_Satellite_Data.csv_shaped.csv\" and select Insert a pandas DataFrame object. This will insert a code block that makes a connection to your data."
        },
        {
            "cell_type": "code",
            "execution_count": null,
            "metadata": {},
            "outputs": [],
            "source": "### INSERT CODE using the \"Find and Add Data\" tool\n### RUN THIS CELL\n"
        },
        {
            "cell_type": "code",
            "execution_count": 6,
            "metadata": {},
            "outputs": [],
            "source": "### RUN THIS CELL\n%matplotlib inline\nimport urllib.request\nurllib.request.urlretrieve('https://raw.githubusercontent.com/watsonwarriors2020/challenges/master/ww.py','ww.py')\nimport ww\nww = ww.WatsonWarriors()"
        },
        {
            "cell_type": "markdown",
            "metadata": {},
            "source": "## Filter the Data\n\nUse the cell below to filter the data frame based on the latitude and longitude for the brightest point. Note that the name of the data frame used below (\"df_data_1\") could differ from the name of the data frame you loaded above. Modify the name of the data frame as needed."
        },
        {
            "cell_type": "code",
            "execution_count": null,
            "metadata": {},
            "outputs": [],
            "source": "# change coordinates to those noted for the brightest point\n### RUN THIS CELL\ncoordinates = ['36.xxxx', '-121.xxx']  \n\nbrightest = df_data_1[df_data_1.lat.isin(coordinates) & df_data_1.long.isin(coordinates)]['brightness'];\nbrightest = float(brightest)\nww.answer(1,brightest);\nprint(brightest)"
        },
        {
            "cell_type": "markdown",
            "metadata": {},
            "source": "## View the Data\n\nIn this section you will import the 3D Scatter Plot you created using the Data Refinery Tool. Run this section and you will see the chart output below.\n\nModify the name of the bucket below so that it uses your ID number. For example wwalpha01 or wwalpha02."
        },
        {
            "cell_type": "code",
            "execution_count": null,
            "metadata": {},
            "outputs": [],
            "source": "import matplotlib.pyplot as plt\nimport matplotlib.image as mpimg\n\n\n# Your data file was loaded into a botocore.response.StreamingBody object.\n# Please read the documentation of ibm_boto3 and pandas to learn more about the possibilities to load the data.\n# ibm_boto3 documentation: https://ibm.github.io/ibm-cos-sdk-python/\n# pandas documentation: http://pandas.pydata.org/\nbody = client_f018be22e10d47e98fc146c6943ab9d0.get_object(Bucket='wwalpha30launchcgcom-donotdelete-pr-qklfx99x6wobec', Key='dataview-vis.png')['Body']\n# add missing __iter__ method so pandas accepts body as file-like object\nif not hasattr(body, \"__iter__\"): streaming_body_1.__iter__ = types.MethodType( __iter__, body ) \n\n    \nimg=mpimg.imread(body)\nimgplot = plt.imshow(img)\nplt.show(imgplot)\n"
        }
    ],
    "metadata": {
        "kernelspec": {
            "display_name": "Python 3.6",
            "language": "python",
            "name": "python3"
        },
        "language_info": {
            "codemirror_mode": {
                "name": "ipython",
                "version": 3
            },
            "file_extension": ".py",
            "mimetype": "text/x-python",
            "name": "python",
            "nbconvert_exporter": "python",
            "pygments_lexer": "ipython3",
            "version": "3.6.8"
        }
    },
    "nbformat": 4,
    "nbformat_minor": 1
}