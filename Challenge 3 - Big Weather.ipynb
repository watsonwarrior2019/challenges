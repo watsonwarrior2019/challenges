{
    "cells": [
        {
            "attachments": {},
            "cell_type": "markdown",
            "metadata": {
                "collapsed": true
            },
            "source": "# Challenge 3\n## Big Weather\n\nLearning algorithms need data, massive amounts of data to train a model to make better inferences.  \n\nWatson Studio Local provides connections to Big SQL, SQL Server, DB2, Oracle, and many other remote data sources. The contestants will import Weather Company data from a remote source to use within Watson Studio Local. This data will then be integrated with the wild fire data that was utilized in the previous challenges.\n\nThis will be the first challenge to demonstrate the Power Hardware as a differentiator. Pulling and processing large amounts of data benefits from powerful hardware design. \n\n\n## Connect to Data\nIn the top right corner of this page, click the icon with three squares and a one which has the tooltip \"Find and Add Data\". Find the CSV file named \"Weather_Company_Dataset_01_shaped.csv\" and select Insert pandas DataFrame. This will insert a code block that makes a connection to your data.\n\n*Note: the name of the object used below (\"df_data_1\") could differ from the name of the object you loaded above. Modify the name of the data frame as needed.*"
        },
        {
            "cell_type": "code",
            "execution_count": null,
            "metadata": {},
            "outputs": [],
            "source": "# The code was removed by Watson Studio for sharing."
        },
        {
            "cell_type": "code",
            "execution_count": null,
            "metadata": {},
            "outputs": [],
            "source": "### RUN THIS CELL\nimport pandas as pd, os, urllib.request\n\nimport urllib.request\nurllib.request.urlretrieve('https://raw.githubusercontent.com/watsonwarriors2020/challenges/master/ww.py','ww.py')\nimport ww\nww = ww.WatsonWarriors()\n"
        },
        {
            "cell_type": "markdown",
            "metadata": {},
            "source": "## Submit Answer\nRun the cell below to complete the challenge."
        },
        {
            "cell_type": "code",
            "execution_count": null,
            "metadata": {},
            "outputs": [],
            "source": "### RUN THIS CELL\n## Challenge verification\ntry:\n    rows = df_data_3.shape[0]\n    columns = df_data_3.shape[1]\n    \n    print(rows)\nexcept:\n    rows = 0\n    columns = 0\n    print(rows)\n\nww.answer(0,rows)\n    \n### --- Paste code below\n"
        }
    ],
    "metadata": {
        "kernelspec": {
            "display_name": "Python 3.6",
            "language": "python",
            "name": "python3"
        },
        "language_info": {
            "codemirror_mode": {
                "name": "ipython",
                "version": 3
            },
            "file_extension": ".py",
            "mimetype": "text/x-python",
            "name": "python",
            "nbconvert_exporter": "python",
            "pygments_lexer": "ipython3",
            "version": "3.6.8"
        }
    },
    "nbformat": 4,
    "nbformat_minor": 1
}