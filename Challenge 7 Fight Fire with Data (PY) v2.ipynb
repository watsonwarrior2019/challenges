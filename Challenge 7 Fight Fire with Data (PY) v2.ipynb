{
    "cells": [
        {
            "cell_type": "markdown",
            "metadata": {},
            "source": "# Challenge 7 - Fight Fire with Data\n## Random Forest Model to Predict Fire Spread\n\nThe user will be using a Jupyter Notebook to run code that was developed in Python. First, the user will check to see if the wind speed and brightness are correlated with the speed that the fire spreads derived from the satellite data. The input data has been prepared for you. Next, the user will run the code that creates a model (random forest) using the features they select (windspeed and brightness) as the inputs and estimates the speed of spread as the target variable (speed of spread). They will train a model, record the Mean Absolute Error and save the model into a deployable format also known as Predictive Model Markup Language (PMML). "
        },
        {
            "cell_type": "markdown",
            "metadata": {},
            "source": "## Install and Load Packages"
        },
        {
            "cell_type": "code",
            "execution_count": 1,
            "metadata": {},
            "outputs": [],
            "source": "import pandas as pd\nimport numpy as np\n# Using Skicit-learn to split data into training and testing sets\nfrom sklearn.model_selection import train_test_split\n# Import the model we are using\nfrom sklearn.ensemble import RandomForestRegressor\nimport types"
        },
        {
            "cell_type": "markdown",
            "metadata": {},
            "source": "## Get and View Data"
        },
        {
            "cell_type": "code",
            "execution_count": 3,
            "metadata": {},
            "outputs": [
                {
                    "data": {
                        "text/html": "<div>\n<style scoped>\n    .dataframe tbody tr th:only-of-type {\n        vertical-align: middle;\n    }\n\n    .dataframe tbody tr th {\n        vertical-align: top;\n    }\n\n    .dataframe thead th {\n        text-align: right;\n    }\n</style>\n<table border=\"1\" class=\"dataframe\">\n  <thead>\n    <tr style=\"text-align: right;\">\n      <th></th>\n      <th>SiteId</th>\n      <th>latitude</th>\n      <th>longitude</th>\n      <th>DateHrGmt</th>\n      <th>DateHrLwt</th>\n      <th>WindSpeedMph</th>\n      <th>WindDirectionDegrees</th>\n      <th>SurfaceWindGustsMph</th>\n      <th>ZeroToTenLiquidSoilMoisturePercent</th>\n      <th>TenToFortyLiquidSoilMoisturePercent</th>\n      <th>...</th>\n      <th>bright_t31</th>\n      <th>frp</th>\n      <th>daynight</th>\n      <th>type</th>\n      <th>datetime_start</th>\n      <th>lat_start</th>\n      <th>long_start</th>\n      <th>distance</th>\n      <th>duration</th>\n      <th>speed_mph</th>\n    </tr>\n  </thead>\n  <tbody>\n    <tr>\n      <th>0</th>\n      <td>2161142584</td>\n      <td>36.46616</td>\n      <td>-121.89671</td>\n      <td>7/23/2016 3:00</td>\n      <td>7/22/2016 20:00</td>\n      <td>6.4</td>\n      <td>318</td>\n      <td>36.8</td>\n      <td>14.0</td>\n      <td>24.4</td>\n      <td>...</td>\n      <td>309.3</td>\n      <td>77.2</td>\n      <td>N</td>\n      <td>3</td>\n      <td>7/22/2016 20:21</td>\n      <td>36.46616</td>\n      <td>-121.89671</td>\n      <td>0.000000</td>\n      <td>0.0</td>\n      <td>0.0</td>\n    </tr>\n    <tr>\n      <th>1</th>\n      <td>2161142584</td>\n      <td>36.46486</td>\n      <td>-121.90179</td>\n      <td>7/23/2016 3:00</td>\n      <td>7/22/2016 20:00</td>\n      <td>6.4</td>\n      <td>318</td>\n      <td>36.8</td>\n      <td>14.0</td>\n      <td>24.4</td>\n      <td>...</td>\n      <td>306.9</td>\n      <td>77.2</td>\n      <td>N</td>\n      <td>3</td>\n      <td>7/22/2016 20:21</td>\n      <td>36.46616</td>\n      <td>-121.89671</td>\n      <td>0.296552</td>\n      <td>0.0</td>\n      <td>0.0</td>\n    </tr>\n    <tr>\n      <th>2</th>\n      <td>2161142584</td>\n      <td>36.46379</td>\n      <td>-121.89375</td>\n      <td>7/23/2016 3:00</td>\n      <td>7/22/2016 20:00</td>\n      <td>6.4</td>\n      <td>318</td>\n      <td>36.8</td>\n      <td>14.0</td>\n      <td>24.4</td>\n      <td>...</td>\n      <td>306.1</td>\n      <td>77.7</td>\n      <td>N</td>\n      <td>3</td>\n      <td>7/22/2016 20:21</td>\n      <td>36.46616</td>\n      <td>-121.89671</td>\n      <td>0.232352</td>\n      <td>0.0</td>\n      <td>0.0</td>\n    </tr>\n    <tr>\n      <th>3</th>\n      <td>2161142584</td>\n      <td>36.46245</td>\n      <td>-121.89890</td>\n      <td>7/23/2016 3:00</td>\n      <td>7/22/2016 20:00</td>\n      <td>6.4</td>\n      <td>318</td>\n      <td>36.8</td>\n      <td>14.0</td>\n      <td>24.4</td>\n      <td>...</td>\n      <td>342.5</td>\n      <td>77.7</td>\n      <td>N</td>\n      <td>3</td>\n      <td>7/22/2016 20:21</td>\n      <td>36.46616</td>\n      <td>-121.89671</td>\n      <td>0.284073</td>\n      <td>0.0</td>\n      <td>0.0</td>\n    </tr>\n    <tr>\n      <th>4</th>\n      <td>2161142584</td>\n      <td>36.46112</td>\n      <td>-121.90392</td>\n      <td>7/23/2016 3:00</td>\n      <td>7/22/2016 20:00</td>\n      <td>6.4</td>\n      <td>318</td>\n      <td>36.8</td>\n      <td>14.0</td>\n      <td>24.4</td>\n      <td>...</td>\n      <td>301.6</td>\n      <td>55.2</td>\n      <td>N</td>\n      <td>3</td>\n      <td>7/22/2016 20:21</td>\n      <td>36.46616</td>\n      <td>-121.89671</td>\n      <td>0.531420</td>\n      <td>0.0</td>\n      <td>0.0</td>\n    </tr>\n  </tbody>\n</table>\n<p>5 rows \u00d7 35 columns</p>\n</div>",
                        "text/plain": "       SiteId  latitude  longitude       DateHrGmt        DateHrLwt  \\\n0  2161142584  36.46616 -121.89671  7/23/2016 3:00  7/22/2016 20:00   \n1  2161142584  36.46486 -121.90179  7/23/2016 3:00  7/22/2016 20:00   \n2  2161142584  36.46379 -121.89375  7/23/2016 3:00  7/22/2016 20:00   \n3  2161142584  36.46245 -121.89890  7/23/2016 3:00  7/22/2016 20:00   \n4  2161142584  36.46112 -121.90392  7/23/2016 3:00  7/22/2016 20:00   \n\n   WindSpeedMph  WindDirectionDegrees  SurfaceWindGustsMph  \\\n0           6.4                   318                 36.8   \n1           6.4                   318                 36.8   \n2           6.4                   318                 36.8   \n3           6.4                   318                 36.8   \n4           6.4                   318                 36.8   \n\n   ZeroToTenLiquidSoilMoisturePercent  TenToFortyLiquidSoilMoisturePercent  \\\n0                                14.0                                 24.4   \n1                                14.0                                 24.4   \n2                                14.0                                 24.4   \n3                                14.0                                 24.4   \n4                                14.0                                 24.4   \n\n   ...  bright_t31   frp  daynight  type   datetime_start lat_start  \\\n0  ...       309.3  77.2         N     3  7/22/2016 20:21  36.46616   \n1  ...       306.9  77.2         N     3  7/22/2016 20:21  36.46616   \n2  ...       306.1  77.7         N     3  7/22/2016 20:21  36.46616   \n3  ...       342.5  77.7         N     3  7/22/2016 20:21  36.46616   \n4  ...       301.6  55.2         N     3  7/22/2016 20:21  36.46616   \n\n   long_start  distance  duration speed_mph  \n0  -121.89671  0.000000       0.0       0.0  \n1  -121.89671  0.296552       0.0       0.0  \n2  -121.89671  0.232352       0.0       0.0  \n3  -121.89671  0.284073       0.0       0.0  \n4  -121.89671  0.531420       0.0       0.0  \n\n[5 rows x 35 columns]"
                    },
                    "execution_count": 3,
                    "metadata": {},
                    "output_type": "execute_result"
                }
            ],
            "source": "df = pd.read_csv(\"Challenge_7_Merged_Data_single_fire.csv\" , low_memory=False)\ndf.head()"
        },
        {
            "cell_type": "code",
            "execution_count": 4,
            "metadata": {},
            "outputs": [
                {
                    "name": "stdout",
                    "output_type": "stream",
                    "text": "Dataframe shape: (13818, 35)\n\nColumns: Index(['SiteId', 'latitude', 'longitude', 'DateHrGmt', 'DateHrLwt',\n       'WindSpeedMph', 'WindDirectionDegrees', 'SurfaceWindGustsMph',\n       'ZeroToTenLiquidSoilMoisturePercent',\n       'TenToFortyLiquidSoilMoisturePercent',\n       'FortyToOneHundredLiquidSoilMoisturePercent',\n       'SurfaceTemperatureFahrenheit', 'SurfaceDewpointTemperatureFahrenheit',\n       'SurfaceWetBulbTemperatureFahrenheit', 'RelativeHumidityPercent',\n       'time_stamp', 'brightness', 'scan', 'track', 'acq_date', 'acq_time',\n       'satellite', 'instrument', 'confidence', 'version', 'bright_t31', 'frp',\n       'daynight', 'type', 'datetime_start', 'lat_start', 'long_start',\n       'distance', 'duration', 'speed_mph'],\n      dtype='object')\n"
                },
                {
                    "data": {
                        "text/html": "<div>\n<style scoped>\n    .dataframe tbody tr th:only-of-type {\n        vertical-align: middle;\n    }\n\n    .dataframe tbody tr th {\n        vertical-align: top;\n    }\n\n    .dataframe thead th {\n        text-align: right;\n    }\n</style>\n<table border=\"1\" class=\"dataframe\">\n  <thead>\n    <tr style=\"text-align: right;\">\n      <th></th>\n      <th>SiteId</th>\n      <th>latitude</th>\n      <th>longitude</th>\n      <th>DateHrGmt</th>\n      <th>DateHrLwt</th>\n      <th>WindSpeedMph</th>\n      <th>WindDirectionDegrees</th>\n      <th>SurfaceWindGustsMph</th>\n      <th>ZeroToTenLiquidSoilMoisturePercent</th>\n      <th>TenToFortyLiquidSoilMoisturePercent</th>\n      <th>...</th>\n      <th>bright_t31</th>\n      <th>frp</th>\n      <th>daynight</th>\n      <th>type</th>\n      <th>datetime_start</th>\n      <th>lat_start</th>\n      <th>long_start</th>\n      <th>distance</th>\n      <th>duration</th>\n      <th>speed_mph</th>\n    </tr>\n  </thead>\n  <tbody>\n    <tr>\n      <th>0</th>\n      <td>2161142584</td>\n      <td>36.46616</td>\n      <td>-121.89671</td>\n      <td>7/23/2016 3:00</td>\n      <td>7/22/2016 20:00</td>\n      <td>6.4</td>\n      <td>318</td>\n      <td>36.8</td>\n      <td>14.0</td>\n      <td>24.4</td>\n      <td>...</td>\n      <td>309.3</td>\n      <td>77.2</td>\n      <td>N</td>\n      <td>3</td>\n      <td>7/22/2016 20:21</td>\n      <td>36.46616</td>\n      <td>-121.89671</td>\n      <td>0.000000</td>\n      <td>0.0</td>\n      <td>0.0</td>\n    </tr>\n    <tr>\n      <th>1</th>\n      <td>2161142584</td>\n      <td>36.46486</td>\n      <td>-121.90179</td>\n      <td>7/23/2016 3:00</td>\n      <td>7/22/2016 20:00</td>\n      <td>6.4</td>\n      <td>318</td>\n      <td>36.8</td>\n      <td>14.0</td>\n      <td>24.4</td>\n      <td>...</td>\n      <td>306.9</td>\n      <td>77.2</td>\n      <td>N</td>\n      <td>3</td>\n      <td>7/22/2016 20:21</td>\n      <td>36.46616</td>\n      <td>-121.89671</td>\n      <td>0.296552</td>\n      <td>0.0</td>\n      <td>0.0</td>\n    </tr>\n    <tr>\n      <th>2</th>\n      <td>2161142584</td>\n      <td>36.46379</td>\n      <td>-121.89375</td>\n      <td>7/23/2016 3:00</td>\n      <td>7/22/2016 20:00</td>\n      <td>6.4</td>\n      <td>318</td>\n      <td>36.8</td>\n      <td>14.0</td>\n      <td>24.4</td>\n      <td>...</td>\n      <td>306.1</td>\n      <td>77.7</td>\n      <td>N</td>\n      <td>3</td>\n      <td>7/22/2016 20:21</td>\n      <td>36.46616</td>\n      <td>-121.89671</td>\n      <td>0.232352</td>\n      <td>0.0</td>\n      <td>0.0</td>\n    </tr>\n    <tr>\n      <th>3</th>\n      <td>2161142584</td>\n      <td>36.46245</td>\n      <td>-121.89890</td>\n      <td>7/23/2016 3:00</td>\n      <td>7/22/2016 20:00</td>\n      <td>6.4</td>\n      <td>318</td>\n      <td>36.8</td>\n      <td>14.0</td>\n      <td>24.4</td>\n      <td>...</td>\n      <td>342.5</td>\n      <td>77.7</td>\n      <td>N</td>\n      <td>3</td>\n      <td>7/22/2016 20:21</td>\n      <td>36.46616</td>\n      <td>-121.89671</td>\n      <td>0.284073</td>\n      <td>0.0</td>\n      <td>0.0</td>\n    </tr>\n    <tr>\n      <th>4</th>\n      <td>2161142584</td>\n      <td>36.46112</td>\n      <td>-121.90392</td>\n      <td>7/23/2016 3:00</td>\n      <td>7/22/2016 20:00</td>\n      <td>6.4</td>\n      <td>318</td>\n      <td>36.8</td>\n      <td>14.0</td>\n      <td>24.4</td>\n      <td>...</td>\n      <td>301.6</td>\n      <td>55.2</td>\n      <td>N</td>\n      <td>3</td>\n      <td>7/22/2016 20:21</td>\n      <td>36.46616</td>\n      <td>-121.89671</td>\n      <td>0.531420</td>\n      <td>0.0</td>\n      <td>0.0</td>\n    </tr>\n  </tbody>\n</table>\n<p>5 rows \u00d7 35 columns</p>\n</div>",
                        "text/plain": "       SiteId  latitude  longitude       DateHrGmt        DateHrLwt  \\\n0  2161142584  36.46616 -121.89671  7/23/2016 3:00  7/22/2016 20:00   \n1  2161142584  36.46486 -121.90179  7/23/2016 3:00  7/22/2016 20:00   \n2  2161142584  36.46379 -121.89375  7/23/2016 3:00  7/22/2016 20:00   \n3  2161142584  36.46245 -121.89890  7/23/2016 3:00  7/22/2016 20:00   \n4  2161142584  36.46112 -121.90392  7/23/2016 3:00  7/22/2016 20:00   \n\n   WindSpeedMph  WindDirectionDegrees  SurfaceWindGustsMph  \\\n0           6.4                   318                 36.8   \n1           6.4                   318                 36.8   \n2           6.4                   318                 36.8   \n3           6.4                   318                 36.8   \n4           6.4                   318                 36.8   \n\n   ZeroToTenLiquidSoilMoisturePercent  TenToFortyLiquidSoilMoisturePercent  \\\n0                                14.0                                 24.4   \n1                                14.0                                 24.4   \n2                                14.0                                 24.4   \n3                                14.0                                 24.4   \n4                                14.0                                 24.4   \n\n   ...  bright_t31   frp  daynight  type   datetime_start lat_start  \\\n0  ...       309.3  77.2         N     3  7/22/2016 20:21  36.46616   \n1  ...       306.9  77.2         N     3  7/22/2016 20:21  36.46616   \n2  ...       306.1  77.7         N     3  7/22/2016 20:21  36.46616   \n3  ...       342.5  77.7         N     3  7/22/2016 20:21  36.46616   \n4  ...       301.6  55.2         N     3  7/22/2016 20:21  36.46616   \n\n   long_start  distance  duration speed_mph  \n0  -121.89671  0.000000       0.0       0.0  \n1  -121.89671  0.296552       0.0       0.0  \n2  -121.89671  0.232352       0.0       0.0  \n3  -121.89671  0.284073       0.0       0.0  \n4  -121.89671  0.531420       0.0       0.0  \n\n[5 rows x 35 columns]"
                    },
                    "execution_count": 4,
                    "metadata": {},
                    "output_type": "execute_result"
                }
            ],
            "source": "print(f'Dataframe shape: {df.shape}\\n')\nprint(f'Columns: {df.columns}')\ndf.head()"
        },
        {
            "cell_type": "code",
            "execution_count": 5,
            "metadata": {},
            "outputs": [
                {
                    "name": "stdout",
                    "output_type": "stream",
                    "text": "Display df\n"
                },
                {
                    "data": {
                        "text/html": "<div>\n<style scoped>\n    .dataframe tbody tr th:only-of-type {\n        vertical-align: middle;\n    }\n\n    .dataframe tbody tr th {\n        vertical-align: top;\n    }\n\n    .dataframe thead th {\n        text-align: right;\n    }\n</style>\n<table border=\"1\" class=\"dataframe\">\n  <thead>\n    <tr style=\"text-align: right;\">\n      <th></th>\n      <th>WindSpeedMph</th>\n      <th>SurfaceWindGustsMph</th>\n      <th>ZeroToTenLiquidSoilMoisturePercent</th>\n      <th>TenToFortyLiquidSoilMoisturePercent</th>\n      <th>FortyToOneHundredLiquidSoilMoisturePercent</th>\n      <th>SurfaceTemperatureFahrenheit</th>\n      <th>SurfaceDewpointTemperatureFahrenheit</th>\n      <th>SurfaceWetBulbTemperatureFahrenheit</th>\n      <th>RelativeHumidityPercent</th>\n      <th>brightness</th>\n      <th>bright_t31</th>\n      <th>frp</th>\n      <th>speed_mph</th>\n    </tr>\n  </thead>\n  <tbody>\n    <tr>\n      <th>0</th>\n      <td>6.4</td>\n      <td>36.8</td>\n      <td>14.0</td>\n      <td>24.4</td>\n      <td>25.4</td>\n      <td>60.4</td>\n      <td>50.3</td>\n      <td>54.6</td>\n      <td>70</td>\n      <td>367.0</td>\n      <td>309.3</td>\n      <td>77.2</td>\n      <td>0.0</td>\n    </tr>\n    <tr>\n      <th>1</th>\n      <td>6.4</td>\n      <td>36.8</td>\n      <td>14.0</td>\n      <td>24.4</td>\n      <td>25.4</td>\n      <td>60.4</td>\n      <td>50.3</td>\n      <td>54.6</td>\n      <td>70</td>\n      <td>267.7</td>\n      <td>306.9</td>\n      <td>77.2</td>\n      <td>0.0</td>\n    </tr>\n    <tr>\n      <th>2</th>\n      <td>6.4</td>\n      <td>36.8</td>\n      <td>14.0</td>\n      <td>24.4</td>\n      <td>25.4</td>\n      <td>60.4</td>\n      <td>50.3</td>\n      <td>54.6</td>\n      <td>70</td>\n      <td>367.0</td>\n      <td>306.1</td>\n      <td>77.7</td>\n      <td>0.0</td>\n    </tr>\n    <tr>\n      <th>3</th>\n      <td>6.4</td>\n      <td>36.8</td>\n      <td>14.0</td>\n      <td>24.4</td>\n      <td>25.4</td>\n      <td>60.4</td>\n      <td>50.3</td>\n      <td>54.6</td>\n      <td>70</td>\n      <td>367.0</td>\n      <td>342.5</td>\n      <td>77.7</td>\n      <td>0.0</td>\n    </tr>\n    <tr>\n      <th>4</th>\n      <td>6.4</td>\n      <td>36.8</td>\n      <td>14.0</td>\n      <td>24.4</td>\n      <td>25.4</td>\n      <td>60.4</td>\n      <td>50.3</td>\n      <td>54.6</td>\n      <td>70</td>\n      <td>356.6</td>\n      <td>301.6</td>\n      <td>55.2</td>\n      <td>0.0</td>\n    </tr>\n  </tbody>\n</table>\n</div>",
                        "text/plain": "   WindSpeedMph  SurfaceWindGustsMph  ZeroToTenLiquidSoilMoisturePercent  \\\n0           6.4                 36.8                                14.0   \n1           6.4                 36.8                                14.0   \n2           6.4                 36.8                                14.0   \n3           6.4                 36.8                                14.0   \n4           6.4                 36.8                                14.0   \n\n   TenToFortyLiquidSoilMoisturePercent  \\\n0                                 24.4   \n1                                 24.4   \n2                                 24.4   \n3                                 24.4   \n4                                 24.4   \n\n   FortyToOneHundredLiquidSoilMoisturePercent  SurfaceTemperatureFahrenheit  \\\n0                                        25.4                          60.4   \n1                                        25.4                          60.4   \n2                                        25.4                          60.4   \n3                                        25.4                          60.4   \n4                                        25.4                          60.4   \n\n   SurfaceDewpointTemperatureFahrenheit  SurfaceWetBulbTemperatureFahrenheit  \\\n0                                  50.3                                 54.6   \n1                                  50.3                                 54.6   \n2                                  50.3                                 54.6   \n3                                  50.3                                 54.6   \n4                                  50.3                                 54.6   \n\n   RelativeHumidityPercent  brightness  bright_t31   frp  speed_mph  \n0                       70       367.0       309.3  77.2        0.0  \n1                       70       267.7       306.9  77.2        0.0  \n2                       70       367.0       306.1  77.7        0.0  \n3                       70       367.0       342.5  77.7        0.0  \n4                       70       356.6       301.6  55.2        0.0  "
                    },
                    "metadata": {},
                    "output_type": "display_data"
                },
                {
                    "name": "stdout",
                    "output_type": "stream",
                    "text": "Describe dataframe\n"
                },
                {
                    "data": {
                        "text/html": "<div>\n<style scoped>\n    .dataframe tbody tr th:only-of-type {\n        vertical-align: middle;\n    }\n\n    .dataframe tbody tr th {\n        vertical-align: top;\n    }\n\n    .dataframe thead th {\n        text-align: right;\n    }\n</style>\n<table border=\"1\" class=\"dataframe\">\n  <thead>\n    <tr style=\"text-align: right;\">\n      <th></th>\n      <th>WindSpeedMph</th>\n      <th>SurfaceWindGustsMph</th>\n      <th>ZeroToTenLiquidSoilMoisturePercent</th>\n      <th>TenToFortyLiquidSoilMoisturePercent</th>\n      <th>FortyToOneHundredLiquidSoilMoisturePercent</th>\n      <th>SurfaceTemperatureFahrenheit</th>\n      <th>SurfaceDewpointTemperatureFahrenheit</th>\n      <th>SurfaceWetBulbTemperatureFahrenheit</th>\n      <th>RelativeHumidityPercent</th>\n      <th>brightness</th>\n      <th>bright_t31</th>\n      <th>frp</th>\n      <th>speed_mph</th>\n    </tr>\n  </thead>\n  <tbody>\n    <tr>\n      <th>count</th>\n      <td>13818.000000</td>\n      <td>13818.000000</td>\n      <td>13818.000000</td>\n      <td>13818.000000</td>\n      <td>13818.000000</td>\n      <td>13818.000000</td>\n      <td>13818.000000</td>\n      <td>13818.000000</td>\n      <td>13818.000000</td>\n      <td>13818.000000</td>\n      <td>13818.000000</td>\n      <td>13818.000000</td>\n      <td>13818.000000</td>\n    </tr>\n    <tr>\n      <th>mean</th>\n      <td>4.545781</td>\n      <td>23.536286</td>\n      <td>13.847829</td>\n      <td>22.251563</td>\n      <td>23.355384</td>\n      <td>62.288197</td>\n      <td>51.163511</td>\n      <td>55.729831</td>\n      <td>70.660226</td>\n      <td>333.765769</td>\n      <td>299.103843</td>\n      <td>47.553807</td>\n      <td>0.049042</td>\n    </tr>\n    <tr>\n      <th>std</th>\n      <td>2.032529</td>\n      <td>7.382075</td>\n      <td>0.971136</td>\n      <td>1.828861</td>\n      <td>1.642913</td>\n      <td>7.603074</td>\n      <td>4.100671</td>\n      <td>3.157922</td>\n      <td>20.616516</td>\n      <td>23.644904</td>\n      <td>11.751736</td>\n      <td>162.295969</td>\n      <td>0.352600</td>\n    </tr>\n    <tr>\n      <th>min</th>\n      <td>0.100000</td>\n      <td>3.600000</td>\n      <td>12.300000</td>\n      <td>17.900000</td>\n      <td>19.100000</td>\n      <td>39.200000</td>\n      <td>16.800000</td>\n      <td>38.100000</td>\n      <td>11.000000</td>\n      <td>208.000000</td>\n      <td>260.200000</td>\n      <td>0.200000</td>\n      <td>0.000000</td>\n    </tr>\n    <tr>\n      <th>25%</th>\n      <td>3.100000</td>\n      <td>18.500000</td>\n      <td>12.600000</td>\n      <td>21.100000</td>\n      <td>22.500000</td>\n      <td>56.700000</td>\n      <td>49.600000</td>\n      <td>54.100000</td>\n      <td>55.000000</td>\n      <td>314.100000</td>\n      <td>291.700000</td>\n      <td>3.700000</td>\n      <td>0.017262</td>\n    </tr>\n    <tr>\n      <th>50%</th>\n      <td>4.200000</td>\n      <td>23.900000</td>\n      <td>14.200000</td>\n      <td>22.500000</td>\n      <td>23.500000</td>\n      <td>61.300000</td>\n      <td>51.500000</td>\n      <td>56.100000</td>\n      <td>71.000000</td>\n      <td>333.600000</td>\n      <td>296.700000</td>\n      <td>11.700000</td>\n      <td>0.027270</td>\n    </tr>\n    <tr>\n      <th>75%</th>\n      <td>5.800000</td>\n      <td>27.500000</td>\n      <td>14.700000</td>\n      <td>23.800000</td>\n      <td>24.700000</td>\n      <td>68.000000</td>\n      <td>53.700000</td>\n      <td>58.000000</td>\n      <td>91.000000</td>\n      <td>349.500000</td>\n      <td>304.700000</td>\n      <td>36.600000</td>\n      <td>0.042211</td>\n    </tr>\n    <tr>\n      <th>max</th>\n      <td>17.900000</td>\n      <td>55.100000</td>\n      <td>15.600000</td>\n      <td>24.700000</td>\n      <td>25.600000</td>\n      <td>91.600000</td>\n      <td>60.000000</td>\n      <td>64.300000</td>\n      <td>100.000000</td>\n      <td>502.100000</td>\n      <td>400.100000</td>\n      <td>5452.300000</td>\n      <td>33.725228</td>\n    </tr>\n  </tbody>\n</table>\n</div>",
                        "text/plain": "       WindSpeedMph  SurfaceWindGustsMph  ZeroToTenLiquidSoilMoisturePercent  \\\ncount  13818.000000         13818.000000                        13818.000000   \nmean       4.545781            23.536286                           13.847829   \nstd        2.032529             7.382075                            0.971136   \nmin        0.100000             3.600000                           12.300000   \n25%        3.100000            18.500000                           12.600000   \n50%        4.200000            23.900000                           14.200000   \n75%        5.800000            27.500000                           14.700000   \nmax       17.900000            55.100000                           15.600000   \n\n       TenToFortyLiquidSoilMoisturePercent  \\\ncount                         13818.000000   \nmean                             22.251563   \nstd                               1.828861   \nmin                              17.900000   \n25%                              21.100000   \n50%                              22.500000   \n75%                              23.800000   \nmax                              24.700000   \n\n       FortyToOneHundredLiquidSoilMoisturePercent  \\\ncount                                13818.000000   \nmean                                    23.355384   \nstd                                      1.642913   \nmin                                     19.100000   \n25%                                     22.500000   \n50%                                     23.500000   \n75%                                     24.700000   \nmax                                     25.600000   \n\n       SurfaceTemperatureFahrenheit  SurfaceDewpointTemperatureFahrenheit  \\\ncount                  13818.000000                          13818.000000   \nmean                      62.288197                             51.163511   \nstd                        7.603074                              4.100671   \nmin                       39.200000                             16.800000   \n25%                       56.700000                             49.600000   \n50%                       61.300000                             51.500000   \n75%                       68.000000                             53.700000   \nmax                       91.600000                             60.000000   \n\n       SurfaceWetBulbTemperatureFahrenheit  RelativeHumidityPercent  \\\ncount                         13818.000000             13818.000000   \nmean                             55.729831                70.660226   \nstd                               3.157922                20.616516   \nmin                              38.100000                11.000000   \n25%                              54.100000                55.000000   \n50%                              56.100000                71.000000   \n75%                              58.000000                91.000000   \nmax                              64.300000               100.000000   \n\n         brightness    bright_t31           frp     speed_mph  \ncount  13818.000000  13818.000000  13818.000000  13818.000000  \nmean     333.765769    299.103843     47.553807      0.049042  \nstd       23.644904     11.751736    162.295969      0.352600  \nmin      208.000000    260.200000      0.200000      0.000000  \n25%      314.100000    291.700000      3.700000      0.017262  \n50%      333.600000    296.700000     11.700000      0.027270  \n75%      349.500000    304.700000     36.600000      0.042211  \nmax      502.100000    400.100000   5452.300000     33.725228  "
                    },
                    "metadata": {},
                    "output_type": "display_data"
                }
            ],
            "source": "features_short = [\n       'WindSpeedMph', \n       'SurfaceWindGustsMph',\n       'ZeroToTenLiquidSoilMoisturePercent',\n       'TenToFortyLiquidSoilMoisturePercent',\n       'FortyToOneHundredLiquidSoilMoisturePercent',\n       'SurfaceTemperatureFahrenheit', \n       'SurfaceDewpointTemperatureFahrenheit',\n       'SurfaceWetBulbTemperatureFahrenheit', \n       'RelativeHumidityPercent',\n       'brightness', \n       'bright_t31', \n       'frp', \n       'speed_mph'] \n\n# preview our df\nprint('Display df')\ndisplay(df[features_short].head())\n\n# look at statistics of df\nprint('Describe dataframe')\ndisplay(df[features_short].describe())"
        },
        {
            "cell_type": "code",
            "execution_count": 6,
            "metadata": {},
            "outputs": [],
            "source": "# choose features\ninput_features = features_short[:-1]"
        },
        {
            "cell_type": "markdown",
            "metadata": {},
            "source": "## These are the features that we will put in the model"
        },
        {
            "cell_type": "code",
            "execution_count": 7,
            "metadata": {},
            "outputs": [],
            "source": "input_features = [\n       'WindSpeedMph', \n#        'SurfaceWindGustsMph',\n#        'ZeroToTenLiquidSoilMoisturePercent',\n#        'TenToFortyLiquidSoilMoisturePercent',\n#        'FortyToOneHundredLiquidSoilMoisturePercent',\n#        'SurfaceTemperatureFahrenheit', \n#        'SurfaceDewpointTemperatureFahrenheit',\n#        'SurfaceWetBulbTemperatureFahrenheit', \n       'RelativeHumidityPercent',\n       'brightness', \n       'bright_t31', \n       'frp' \n]"
        },
        {
            "cell_type": "code",
            "execution_count": 8,
            "metadata": {},
            "outputs": [
                {
                    "name": "stdout",
                    "output_type": "stream",
                    "text": "(13818,)\n(13818, 5)\n"
                }
            ],
            "source": "y = np.array(df['speed_mph'])\nX = np.array(df[input_features])\nprint(y.shape)\nprint(X.shape)"
        },
        {
            "cell_type": "markdown",
            "metadata": {},
            "source": "## Make a train/test split for the model"
        },
        {
            "cell_type": "code",
            "execution_count": 9,
            "metadata": {},
            "outputs": [
                {
                    "name": "stdout",
                    "output_type": "stream",
                    "text": "Training Features Shape: (10363, 5)\nTraining Labels Shape: (10363,)\nTesting Features Shape: (3455, 5)\nTesting Labels Shape: (3455,)\n"
                }
            ],
            "source": "# make train test split\ntrain_features, test_features, train_labels, test_labels = train_test_split(X, y, test_size = 0.25, random_state = 137)\ntrain_features.shape\ntest_features.shape\ntrain_labels.shape\ntest_labels.shape\n\nprint('Training Features Shape:', train_features.shape)\nprint('Training Labels Shape:', train_labels.shape)\nprint('Testing Features Shape:', test_features.shape)\nprint('Testing Labels Shape:', test_labels.shape)"
        },
        {
            "cell_type": "markdown",
            "metadata": {},
            "source": "## Train and test a random forest model using Kfold Validation\nHere we're going to split our training data into three-folds. For each round, two folds will be used for training, and one fold will be used for validation. "
        },
        {
            "cell_type": "code",
            "execution_count": 10,
            "metadata": {
                "scrolled": true
            },
            "outputs": [
                {
                    "name": "stderr",
                    "output_type": "stream",
                    "text": "[Parallel(n_jobs=-1)]: Using backend ThreadingBackend with 2 concurrent workers.\n[Parallel(n_jobs=-1)]: Done  46 tasks      | elapsed:    0.1s\n[Parallel(n_jobs=-1)]: Done 100 out of 100 | elapsed:    0.2s finished\n[Parallel(n_jobs=2)]: Using backend ThreadingBackend with 2 concurrent workers.\n[Parallel(n_jobs=2)]: Done  46 tasks      | elapsed:    0.0s\n[Parallel(n_jobs=2)]: Done 100 out of 100 | elapsed:    0.0s finished\n[Parallel(n_jobs=-1)]: Using backend ThreadingBackend with 2 concurrent workers.\n[Parallel(n_jobs=-1)]: Done  46 tasks      | elapsed:    0.1s\n[Parallel(n_jobs=-1)]: Done 100 out of 100 | elapsed:    0.2s finished\n[Parallel(n_jobs=2)]: Using backend ThreadingBackend with 2 concurrent workers.\n[Parallel(n_jobs=2)]: Done  46 tasks      | elapsed:    0.0s\n[Parallel(n_jobs=2)]: Done 100 out of 100 | elapsed:    0.0s finished\n[Parallel(n_jobs=-1)]: Using backend ThreadingBackend with 2 concurrent workers.\n[Parallel(n_jobs=-1)]: Done  46 tasks      | elapsed:    0.1s\n"
                },
                {
                    "name": "stdout",
                    "output_type": "stream",
                    "text": "--- 1.3670573234558105 seconds ---\n"
                },
                {
                    "name": "stderr",
                    "output_type": "stream",
                    "text": "[Parallel(n_jobs=-1)]: Done 100 out of 100 | elapsed:    0.2s finished\n[Parallel(n_jobs=2)]: Using backend ThreadingBackend with 2 concurrent workers.\n[Parallel(n_jobs=2)]: Done  46 tasks      | elapsed:    0.0s\n[Parallel(n_jobs=2)]: Done 100 out of 100 | elapsed:    0.0s finished\n"
                }
            ],
            "source": "import time\nfrom sklearn.model_selection import KFold\n\n# Instantiate model with 100 decision trees with a depth of 2\nrf = RandomForestRegressor(\n    n_estimators = 100,\n    max_depth = 2,\n    n_jobs= -1, \n    random_state = 137,\n    verbose=1\n    )\n\n# Set up cross validation\nkf = KFold(n_splits=3, shuffle=True, random_state=8)\n\n# Track start time\nstart_time = time.time()\n# Keep track of MAE for each fit\nall_mae = []\nfor train_index, test_index in kf.split(train_features):\n    X_train, X_test = train_features[train_index], train_features[test_index]\n    y_train, y_test = train_labels[train_index], train_labels[test_index]\n    \n    rf.fit(X_train, y_train)\n    predictions = rf.predict(X_test)\n    errors = (abs(predictions - y_test))\n    mae = np.mean(errors)\n    all_mae.append(mae)\n    \nprint(\"--- %s seconds ---\" % (time.time() - start_time))"
        },
        {
            "cell_type": "markdown",
            "metadata": {},
            "source": "## Display accuracy of the model\nLet's check on how the model did on the training data. "
        },
        {
            "cell_type": "code",
            "execution_count": 12,
            "metadata": {},
            "outputs": [
                {
                    "data": {
                        "text/plain": "'Average Random Forest Mean Absolute Error over three folds: 0.034933263379460365'"
                    },
                    "execution_count": 12,
                    "metadata": {},
                    "output_type": "execute_result"
                }
            ],
            "source": "(f'Average Random Forest Mean Absolute Error over three folds: {np.mean(all_mae)}') # THIS IS OUR VERIFICATION CODE(0.034933)"
        },
        {
            "cell_type": "markdown",
            "metadata": {},
            "source": "MAE: is it the same as yours?  \nMean Absolute Error: 0.0034933 mph.\n\n## Export Predictive Model Markup Language File.\n\nAlthough we haven't officialy tested the model on the test data, lets save it. "
        },
        {
            "cell_type": "markdown",
            "metadata": {},
            "source": "https://collaborate.pega.com/discussion/creating-pmml-python-r-and-pega"
        },
        {
            "cell_type": "code",
            "execution_count": null,
            "metadata": {},
            "outputs": [],
            "source": "from sklearn2pmml import sklearn2pmml\nfrom sklearn2pmml.pipeline import PMMLPipeline\n\n# instantiate PMMLPipeline object\npipeline = PMMLPipeline([\n        ('random_forest', rf)])\n\n# train\npipeline.fit(train_features, train_labels)\n\n# save\nsklearn2pmml(pipeline, \"randomforest.pmml\", with_repr = True)"
        },
        {
            "cell_type": "code",
            "execution_count": 15,
            "metadata": {},
            "outputs": [
                {
                    "name": "stderr",
                    "output_type": "stream",
                    "text": "[Parallel(n_jobs=-1)]: Using backend ThreadingBackend with 2 concurrent workers.\n[Parallel(n_jobs=-1)]: Done  46 tasks      | elapsed:    0.1s\n[Parallel(n_jobs=-1)]: Done 100 out of 100 | elapsed:    0.3s finished\n"
                }
            ],
            "source": "\n\n\n# Import the lib\nfrom project_lib import Project\nproject = Project(sc,\"<ProjectId>\", \"<ProjectToken>\")\n\n# let's assume you have the pandas DataFrame  pandas_df which contains the data\n# you want to save in your object storage as a csv file\nproject.save_data(\"file_name.csv\", pandas_df.to_csv(index=False))\n\n# the function returns a dict which contains the asset_id, bucket_name and file_name\n# upon successful saving of the data"
        },
        {
            "cell_type": "markdown",
            "metadata": {},
            "source": "# Complete Challenge"
        },
        {
            "cell_type": "code",
            "execution_count": null,
            "metadata": {},
            "outputs": [],
            "source": "# Verification\n\nimport ww\nww = ww.WatsonWarriors()\n \nww.answer(0, np.mean(all_mae))\n\n### Enter code for completion below. "
        },
        {
            "cell_type": "code",
            "execution_count": 1,
            "metadata": {},
            "outputs": [],
            "source": "## Past validation code below.\n"
        }
    ],
    "metadata": {
        "kernelspec": {
            "display_name": "Python 3.6",
            "language": "python",
            "name": "python3"
        },
        "language_info": {
            "codemirror_mode": {
                "name": "ipython",
                "version": 3
            },
            "file_extension": ".py",
            "mimetype": "text/x-python",
            "name": "python",
            "nbconvert_exporter": "python",
            "pygments_lexer": "ipython3",
            "version": "3.6.9"
        }
    },
    "nbformat": 4,
    "nbformat_minor": 1
}