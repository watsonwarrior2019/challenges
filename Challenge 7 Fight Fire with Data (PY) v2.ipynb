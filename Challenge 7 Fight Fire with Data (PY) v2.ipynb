{
    "cells": [
        {
            "metadata": {},
            "cell_type": "markdown",
            "source": "# Challenge 7 - Fight Fire with Data\n## Random Forest Model to Predict Fire Spread\n\nThe user will be using a Jupyter Notebook to run code that was developed in Python. First, the user will check to see if the wind speed and brightness are correlated with the speed that the fire spreads derived from the satellite data. The input data has been prepared for you. Next, the user will run the code that creates a model (random forest) using the features they select (windspeed and brightness) as the inputs and estimates the speed of spread as the target variable (speed of spread). They will train a model, record the Mean Absolute Error and save the model into a deployable format also known as Predictive Model Markup Language (PMML). "
        },
        {
            "metadata": {},
            "cell_type": "markdown",
            "source": "## Install and Load Packages"
        },
        {
            "metadata": {},
            "cell_type": "code",
            "source": "import pandas as pd\nimport numpy as np\n# Using Skicit-learn to split data into training and testing sets\nfrom sklearn.model_selection import train_test_split\n# Import the model we are using\nfrom sklearn.ensemble import RandomForestRegressor\nimport types",
            "execution_count": null,
            "outputs": []
        },
        {
            "metadata": {},
            "cell_type": "markdown",
            "source": "## Get and View Data"
        },
        {
            "metadata": {},
            "cell_type": "code",
            "source": "df = pd.read_csv(\"Challenge_7_Merged_Data_single_fire.csv\" , low_memory=False)\ndf.head()",
            "execution_count": null,
            "outputs": []
        },
        {
            "metadata": {},
            "cell_type": "code",
            "source": "print(f'Dataframe shape: {df.shape}\\n')\nprint(f'Columns: {df.columns}')\ndf.head()",
            "execution_count": null,
            "outputs": []
        },
        {
            "metadata": {},
            "cell_type": "code",
            "source": "features_short = [\n       'WindSpeedMph', \n       'SurfaceWindGustsMph',\n       'ZeroToTenLiquidSoilMoisturePercent',\n       'TenToFortyLiquidSoilMoisturePercent',\n       'FortyToOneHundredLiquidSoilMoisturePercent',\n       'SurfaceTemperatureFahrenheit', \n       'SurfaceDewpointTemperatureFahrenheit',\n       'SurfaceWetBulbTemperatureFahrenheit', \n       'RelativeHumidityPercent',\n       'brightness', \n       'bright_t31', \n       'frp', \n       'speed_mph'] \n\n# preview our df\nprint('Display df')\ndisplay(df[features_short].head())\n\n# look at statistics of df\nprint('Describe dataframe')\ndisplay(df[features_short].describe())",
            "execution_count": null,
            "outputs": []
        },
        {
            "metadata": {},
            "cell_type": "code",
            "source": "# choose features\ninput_features = features_short[:-1]",
            "execution_count": null,
            "outputs": []
        },
        {
            "metadata": {},
            "cell_type": "markdown",
            "source": "## These are the features that we will put in the model"
        },
        {
            "metadata": {},
            "cell_type": "code",
            "source": "input_features = [\n       'WindSpeedMph', \n         'SurfaceWindGustsMph',\n         'ZeroToTenLiquidSoilMoisturePercent',\n         'TenToFortyLiquidSoilMoisturePercent',\n         'FortyToOneHundredLiquidSoilMoisturePercent',\n         'SurfaceTemperatureFahrenheit', \n         'SurfaceDewpointTemperatureFahrenheit',\n         'SurfaceWetBulbTemperatureFahrenheit', \n       'RelativeHumidityPercent',\n       'brightness', \n       'bright_t31', \n       'frp' \n]",
            "execution_count": null,
            "outputs": []
        },
        {
            "metadata": {},
            "cell_type": "code",
            "source": "y = np.array(df['speed_mph'])\nX = np.array(df[input_features])\nprint(y.shape)\nprint(X.shape)",
            "execution_count": null,
            "outputs": []
        },
        {
            "metadata": {},
            "cell_type": "markdown",
            "source": "## Make a train/test split for the model"
        },
        {
            "metadata": {},
            "cell_type": "code",
            "source": "# make train test split\ntrain_features, test_features, train_labels, test_labels = train_test_split(X, y, test_size = 0.25, random_state = 137)\ntrain_features.shape\ntest_features.shape\ntrain_labels.shape\ntest_labels.shape\n\nprint('Training Features Shape:', train_features.shape)\nprint('Training Labels Shape:', train_labels.shape)\nprint('Testing Features Shape:', test_features.shape)\nprint('Testing Labels Shape:', test_labels.shape)",
            "execution_count": null,
            "outputs": []
        },
        {
            "metadata": {},
            "cell_type": "markdown",
            "source": "## Train and test a random forest model using Kfold Validation\nHere we're going to split our training data into three-folds. For each round, two folds will be used for training, and one fold will be used for validation. "
        },
        {
            "metadata": {
                "scrolled": true
            },
            "cell_type": "code",
            "source": "import time\nfrom sklearn.model_selection import KFold\n\n# Instantiate model with 100 decision trees with a depth of 2\nrf = RandomForestRegressor(\n    n_estimators = 1000,\n    max_depth = 12,\n    n_jobs= -1, \n    random_state = 137,\n    verbose=1\n    )\n\n# Set up cross validation\nkf = KFold(n_splits=3, shuffle=True, random_state=8)\n\n# Track start time\nstart_time = time.time()\n# Keep track of MAE for each fit\nall_mae = []\nfor train_index, test_index in kf.split(train_features):\n    X_train, X_test = train_features[train_index], train_features[test_index]\n    y_train, y_test = train_labels[train_index], train_labels[test_index]\n    \n    rf.fit(X_train, y_train)\n    predictions = rf.predict(X_test)\n    errors = (abs(predictions - y_test))\n    mae = np.mean(errors)\n    all_mae.append(mae)\n    \nprint(\"--- %s seconds ---\" % (time.time() - start_time))",
            "execution_count": null,
            "outputs": []
        },
        {
            "metadata": {},
            "cell_type": "markdown",
            "source": "## Display accuracy of the model\nLet's check on how the model did on the training data. "
        },
        {
            "metadata": {},
            "cell_type": "code",
            "source": "(f'Average Random Forest Mean Absolute Error over three folds: {np.mean(all_mae)}') # THIS IS OUR VERIFICATION CODE(0.034933)",
            "execution_count": null,
            "outputs": []
        },
        {
            "metadata": {},
            "cell_type": "markdown",
            "source": "MAE: is it the same as yours?  \nMean Absolute Error: 0.0034933 mph.\n\n## Export Predictive Model Markup Language File.\n\nAlthough we haven't officialy tested the model on the test data, lets save it. "
        },
        {
            "metadata": {},
            "cell_type": "markdown",
            "source": "https://collaborate.pega.com/discussion/creating-pmml-python-r-and-pega"
        },
        {
            "metadata": {},
            "cell_type": "code",
            "source": "from sklearn2pmml import sklearn2pmml\nfrom sklearn2pmml.pipeline import PMMLPipeline\n\n# instantiate PMMLPipeline object\npipeline = PMMLPipeline([\n        ('random_forest', rf)])\n\n# train\npipeline.fit(train_features, train_labels)\n\n# save\nsklearn2pmml(pipeline, \"randomforest.pmml\", with_repr = True)",
            "execution_count": null,
            "outputs": []
        },
        {
            "metadata": {},
            "cell_type": "markdown",
            "source": "# Complete Challenge"
        },
        {
            "metadata": {},
            "cell_type": "code",
            "source": "# Verification \n\nimport ww\nww = ww.WatsonWarriors()\n \nww.answer(0, np.mean(all_mae))",
            "execution_count": null,
            "outputs": []
        },
        {
            "metadata": {},
            "cell_type": "code",
            "source": "## Paste validation code below.\n",
            "execution_count": null,
            "outputs": []
        }
    ],
    "metadata": {
        "kernelspec": {
            "name": "python3",
            "display_name": "Python 3.6",
            "language": "python"
        },
        "language_info": {
            "name": "python",
            "version": "3.6.9",
            "mimetype": "text/x-python",
            "codemirror_mode": {
                "name": "ipython",
                "version": 3
            },
            "pygments_lexer": "ipython3",
            "nbconvert_exporter": "python",
            "file_extension": ".py"
        }
    },
    "nbformat": 4,
    "nbformat_minor": 1
}