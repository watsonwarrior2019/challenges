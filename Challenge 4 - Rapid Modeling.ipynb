{
    "cells": [
        {
            "cell_type": "markdown",
            "metadata": {
                "collapsed": true
            },
            "source": "# Challenge 4\n## Rapid Modeling\n\nFor this challenge you will be utilizing the Modeler Flow tool found in Watson Studio. Modeler flow GUI-driven data science deployment tool where the users can perform any of the data science tasks one would ever undergo by dragging and dropping modules onto a canvas and connecting them in a flow process. You can analyze data, create visualizations, deploy ML models, and more. \n\nFor the purpose of this challenge, our Watson Warriors will be focusing on bringing together two independent, but related datasets and examining what new strengths can be found when merging them and discovering potential relationships and features between variables. Next you will build a 3 dimenstional view of the data using Modeler Flow's charting capabilities, and you will use the chart to analyze the fire spread over time to determine how many distinct fires appeare in the data.\n\n\n## How Many Fires?\n\nUsing Modeler Flow determine the number of distinct fires that are detected within the satellite data. \n\nHow many fires are there?"
        },
        {
            "cell_type": "code",
            "execution_count": null,
            "metadata": {},
            "outputs": [],
            "source": "# Assign the number o\nfires = 0"
        },
        {
            "cell_type": "markdown",
            "metadata": {},
            "source": "## Submit Answer\n\nRun the cell below to complete the challenge."
        },
        {
            "cell_type": "code",
            "execution_count": 32,
            "metadata": {},
            "outputs": [
                {
                    "data": {
                        "text/plain": "<Response [200]>"
                    },
                    "execution_count": 32,
                    "metadata": {},
                    "output_type": "execute_result"
                }
            ],
            "source": "import ww\nWatsonWarriors = ww.WatsonWarriors\nww = WatsonWarriors()\n \nww.answer(0,fires)\n    \n## --- Paste code below\n"
        }
    ],
    "metadata": {
        "kernelspec": {
            "display_name": "Python 3.6",
            "language": "python",
            "name": "python3"
        },
        "language_info": {
            "codemirror_mode": {
                "name": "ipython",
                "version": 3
            },
            "file_extension": ".py",
            "mimetype": "text/x-python",
            "name": "python",
            "nbconvert_exporter": "python",
            "pygments_lexer": "ipython3",
            "version": "3.6.8"
        }
    },
    "nbformat": 4,
    "nbformat_minor": 1
}